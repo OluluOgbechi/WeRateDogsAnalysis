{
 "cells": [
  {
   "cell_type": "markdown",
   "metadata": {
    "extensions": {
     "jupyter_dashboards": {
      "version": 1,
      "views": {
       "grid_default": {
        "col": 0,
        "height": 4,
        "hidden": false,
        "row": 0,
        "width": 4
       },
       "report_default": {
        "hidden": false
       }
      }
     }
    }
   },
   "source": [
    "# Project: Wrangling and Analyze Data"
   ]
  },
  {
   "cell_type": "markdown",
   "metadata": {},
   "source": [
    "## Data Gathering\n",
    "This section gathers the three pieces of data required for this project and loads them in the notebook. **Note:** the methods required to gather each data are different."
   ]
  },
  {
   "cell_type": "code",
   "execution_count": 1,
   "metadata": {},
   "outputs": [],
   "source": [
    "# Importing relevant packages\n",
    "import numpy as np\n",
    "import pandas as pd\n",
    "import matplotlib.pyplot as plt\n",
    "import requests\n",
    "import os\n",
    "\n",
    "%matplotlib inline"
   ]
  },
  {
   "cell_type": "markdown",
   "metadata": {},
   "source": [
    "1. Directly downloaded WeRateDogs Twitter archive data (twitter_archive_enhanced.csv)"
   ]
  },
  {
   "cell_type": "code",
   "execution_count": 2,
   "metadata": {
    "extensions": {
     "jupyter_dashboards": {
      "version": 1,
      "views": {
       "grid_default": {
        "hidden": true
       },
       "report_default": {
        "hidden": true
       }
      }
     }
    }
   },
   "outputs": [],
   "source": [
    "# Reading in the WeRateDogs Twitter archive data (twitter_archive_enhanced.csv)\n",
    "twitter_archive = pd.read_csv('twitter-archive-enhanced.csv')"
   ]
  },
  {
   "cell_type": "markdown",
   "metadata": {},
   "source": [
    "2. Tweet image prediction (image_predictions.tsv) downloaded using Requests library "
   ]
  },
  {
   "cell_type": "code",
   "execution_count": 3,
   "metadata": {},
   "outputs": [],
   "source": [
    "# Make a directory called Image Predictions if it doesn't already exist\n",
    "folder_name = 'Image Predictions'\n",
    "if not os.path.exists(folder_name):\n",
    "    os.makedirs(folder_name)\n",
    "\n",
    "# Download image-predictions.tsv file from url programmatically using requests library\n",
    "url = 'https://d17h27t6h515a5.cloudfront.net/topher/2017/August/599fd2ad_image-predictions/image-predictions.tsv'\n",
    "\n",
    "response = requests.get(url)\n",
    "with open(os.path.join(folder_name, url.split('/')[-1]), mode = 'wb') as file:\n",
    "    file.write(response.content) # Write url content into Image Predictions folder"
   ]
  },
  {
   "cell_type": "code",
   "execution_count": 4,
   "metadata": {},
   "outputs": [],
   "source": [
    "# Read image-predictions.tsv file into a pandas dataframe\n",
    "image_predictions = pd.read_csv('Image Predictions/image-predictions.tsv', sep=\"\\t\")"
   ]
  },
  {
   "cell_type": "markdown",
   "metadata": {},
   "source": [
    "3. Additional data queried via the Twitter API using Tweepy library (tweet_json.txt)"
   ]
  },
  {
   "cell_type": "code",
   "execution_count": 5,
   "metadata": {},
   "outputs": [
    {
     "name": "stdout",
     "output_type": "stream",
     "text": [
      "Requirement already satisfied: tweepy in c:\\users\\hp\\.conda\\envs\\project_two\\lib\\site-packages (4.10.1)\n",
      "Requirement already satisfied: requests<3,>=2.27.0 in c:\\users\\hp\\.conda\\envs\\project_two\\lib\\site-packages (from tweepy) (2.28.1)\n",
      "Requirement already satisfied: oauthlib<4,>=3.2.0 in c:\\users\\hp\\.conda\\envs\\project_two\\lib\\site-packages (from tweepy) (3.2.0)Note: you may need to restart the kernel to use updated packages.\n",
      "\n",
      "Requirement already satisfied: requests-oauthlib<2,>=1.2.0 in c:\\users\\hp\\.conda\\envs\\project_two\\lib\\site-packages (from tweepy) (1.3.1)\n",
      "Requirement already satisfied: charset-normalizer<3,>=2 in c:\\users\\hp\\.conda\\envs\\project_two\\lib\\site-packages (from requests<3,>=2.27.0->tweepy) (2.0.4)\n",
      "Requirement already satisfied: urllib3<1.27,>=1.21.1 in c:\\users\\hp\\.conda\\envs\\project_two\\lib\\site-packages (from requests<3,>=2.27.0->tweepy) (1.26.11)\n",
      "Requirement already satisfied: idna<4,>=2.5 in c:\\users\\hp\\.conda\\envs\\project_two\\lib\\site-packages (from requests<3,>=2.27.0->tweepy) (3.3)\n",
      "Requirement already satisfied: certifi>=2017.4.17 in c:\\users\\hp\\.conda\\envs\\project_two\\lib\\site-packages (from requests<3,>=2.27.0->tweepy) (2022.6.15)\n"
     ]
    }
   ],
   "source": [
    "pip install tweepy"
   ]
  },
  {
   "cell_type": "code",
   "execution_count": 6,
   "metadata": {},
   "outputs": [],
   "source": [
    "# Import Tweepy\n",
    "import tweepy\n",
    "\n",
    "# Get API request authentication\n",
    "consumer_key = '*****'\n",
    "consumer_secret = '*****'\n",
    "access_token = '*****'\n",
    "access_secret = '*****'\n",
    "\n",
    "auth = tweepy.OAuthHandler(consumer_key, consumer_secret)\n",
    "auth.set_access_token(access_token, access_secret)\n",
    "\n",
    "api = tweepy.API(auth,  wait_on_rate_limit=True)"
   ]
  },
  {
   "cell_type": "code",
   "execution_count": 7,
   "metadata": {},
   "outputs": [],
   "source": [
    "# Create array of tweet ids from WeRateDogs Twitter archive data \n",
    "tweet_ids = twitter_archive['tweet_id'].values"
   ]
  },
  {
   "cell_type": "code",
   "execution_count": 8,
   "metadata": {},
   "outputs": [],
   "source": [
    "# Create directory named Twitter if it does not already exist; This is to store data obtained from the Twitter API\n",
    "folder_name = 'Twitter'\n",
    "if not os.path.exists(folder_name):\n",
    "    os.makedirs(folder_name)"
   ]
  },
  {
   "cell_type": "code",
   "execution_count": 9,
   "metadata": {},
   "outputs": [
    {
     "name": "stderr",
     "output_type": "stream",
     "text": [
      "Rate limit reached. Sleeping for: 38\n"
     ]
    }
   ],
   "source": [
    "# Import relevant packages\n",
    "import json\n",
    "from timeit import default_timer as timer\n",
    "\n",
    "# Query Twitter's API for JSON data for each tweet ID in the Twitter archive\n",
    "count = 0\n",
    "fails = {}\n",
    "start = timer()\n",
    "# Save each tweet's returned JSON as a new line in a .txt file\n",
    "with open(os.path.join(folder_name, 'tweet_json.txt'), 'w') as outfile:\n",
    "    # This loop will likely take 20-30 minutes to run because of Twitter's rate limit\n",
    "    for tweet_id in tweet_ids:\n",
    "        count += 1\n",
    "        try:\n",
    "            tweet = api.get_status(tweet_id, tweet_mode='extended')\n",
    "            json.dump(tweet._json, outfile)\n",
    "            outfile.write('\\n')\n",
    "        except tweepy.TweepyException as e:\n",
    "            fails[tweet_id] = e\n",
    "            pass\n",
    "end = timer()"
   ]
  },
  {
   "cell_type": "code",
   "execution_count": 10,
   "metadata": {},
   "outputs": [
    {
     "name": "stdout",
     "output_type": "stream",
     "text": [
      "2427.274844200001\n"
     ]
    }
   ],
   "source": [
    "# Processing time\n",
    "print(end - start)"
   ]
  },
  {
   "cell_type": "code",
   "execution_count": 11,
   "metadata": {},
   "outputs": [
    {
     "name": "stdout",
     "output_type": "stream",
     "text": [
      "dict_keys([888202515573088257, 873697596434513921, 872668790621863937, 872261713294495745, 869988702071779329, 866816280283807744, 861769973181624320, 856602993587888130, 856330835276025856, 851953902622658560, 851861385021730816, 845459076796616705, 844704788403113984, 842892208864923648, 837366284874571778, 837012587749474308, 829374341691346946, 827228250799742977, 812747805718642688, 802247111496568832, 779123168116150273, 775096608509886464, 771004394259247104, 770743923962707968, 766864461642756096, 759923798737051648, 759566828574212096, 754011816964026368, 680055455951884288])\n"
     ]
    }
   ],
   "source": [
    "# Tweets that might have been deleted\n",
    "print(fails.keys())"
   ]
  },
  {
   "cell_type": "code",
   "execution_count": 12,
   "metadata": {},
   "outputs": [],
   "source": [
    "# Read tweet_json.txt file line by line \n",
    "tweet_list = []\n",
    "with open('Twitter/tweet_json.txt') as txt_file:\n",
    "    for data in txt_file:\n",
    "        tweet = json.loads(data)\n",
    "        tweet_id = tweet['id_str']\n",
    "        retweet_count = tweet['retweet_count']\n",
    "        favorite_count = tweet['favorite_count']\n",
    "        # Append to list of dictionaries\n",
    "        tweet_list.append({'tweet_id': tweet_id,\n",
    "                           'retweet_count': int(retweet_count),\n",
    "                           'favorite_count': int(favorite_count)})\n",
    "    \n",
    "# Create DataFrame from list of dictionaries\n",
    "additional_data = pd.DataFrame(tweet_list, columns = ['tweet_id', 'retweet_count', 'favorite_count'])"
   ]
  },
  {
   "cell_type": "markdown",
   "metadata": {
    "extensions": {
     "jupyter_dashboards": {
      "version": 1,
      "views": {
       "grid_default": {
        "col": 4,
        "height": 4,
        "hidden": false,
        "row": 28,
        "width": 4
       },
       "report_default": {
        "hidden": false
       }
      }
     }
    }
   },
   "source": [
    "## Assessing Data\n",
    "This section seeks to assess and detect issues in the gathered data."
   ]
  },
  {
   "cell_type": "markdown",
   "metadata": {},
   "source": [
    "### DataFrame 1: `twitter_archive`"
   ]
  },
  {
   "cell_type": "markdown",
   "metadata": {},
   "source": [
    "##### Visual Assessment"
   ]
  },
  {
   "cell_type": "code",
   "execution_count": 13,
   "metadata": {
    "scrolled": true
   },
   "outputs": [
    {
     "data": {
      "text/html": [
       "<div>\n",
       "<style scoped>\n",
       "    .dataframe tbody tr th:only-of-type {\n",
       "        vertical-align: middle;\n",
       "    }\n",
       "\n",
       "    .dataframe tbody tr th {\n",
       "        vertical-align: top;\n",
       "    }\n",
       "\n",
       "    .dataframe thead th {\n",
       "        text-align: right;\n",
       "    }\n",
       "</style>\n",
       "<table border=\"1\" class=\"dataframe\">\n",
       "  <thead>\n",
       "    <tr style=\"text-align: right;\">\n",
       "      <th></th>\n",
       "      <th>tweet_id</th>\n",
       "      <th>in_reply_to_status_id</th>\n",
       "      <th>in_reply_to_user_id</th>\n",
       "      <th>timestamp</th>\n",
       "      <th>source</th>\n",
       "      <th>text</th>\n",
       "      <th>retweeted_status_id</th>\n",
       "      <th>retweeted_status_user_id</th>\n",
       "      <th>retweeted_status_timestamp</th>\n",
       "      <th>expanded_urls</th>\n",
       "      <th>rating_numerator</th>\n",
       "      <th>rating_denominator</th>\n",
       "      <th>name</th>\n",
       "      <th>doggo</th>\n",
       "      <th>floofer</th>\n",
       "      <th>pupper</th>\n",
       "      <th>puppo</th>\n",
       "    </tr>\n",
       "  </thead>\n",
       "  <tbody>\n",
       "    <tr>\n",
       "      <th>0</th>\n",
       "      <td>892420643555336193</td>\n",
       "      <td>NaN</td>\n",
       "      <td>NaN</td>\n",
       "      <td>2017-08-01 16:23:56 +0000</td>\n",
       "      <td>&lt;a href=\"http://twitter.com/download/iphone\" r...</td>\n",
       "      <td>This is Phineas. He's a mystical boy. Only eve...</td>\n",
       "      <td>NaN</td>\n",
       "      <td>NaN</td>\n",
       "      <td>NaN</td>\n",
       "      <td>https://twitter.com/dog_rates/status/892420643...</td>\n",
       "      <td>13</td>\n",
       "      <td>10</td>\n",
       "      <td>Phineas</td>\n",
       "      <td>None</td>\n",
       "      <td>None</td>\n",
       "      <td>None</td>\n",
       "      <td>None</td>\n",
       "    </tr>\n",
       "    <tr>\n",
       "      <th>1</th>\n",
       "      <td>892177421306343426</td>\n",
       "      <td>NaN</td>\n",
       "      <td>NaN</td>\n",
       "      <td>2017-08-01 00:17:27 +0000</td>\n",
       "      <td>&lt;a href=\"http://twitter.com/download/iphone\" r...</td>\n",
       "      <td>This is Tilly. She's just checking pup on you....</td>\n",
       "      <td>NaN</td>\n",
       "      <td>NaN</td>\n",
       "      <td>NaN</td>\n",
       "      <td>https://twitter.com/dog_rates/status/892177421...</td>\n",
       "      <td>13</td>\n",
       "      <td>10</td>\n",
       "      <td>Tilly</td>\n",
       "      <td>None</td>\n",
       "      <td>None</td>\n",
       "      <td>None</td>\n",
       "      <td>None</td>\n",
       "    </tr>\n",
       "    <tr>\n",
       "      <th>2</th>\n",
       "      <td>891815181378084864</td>\n",
       "      <td>NaN</td>\n",
       "      <td>NaN</td>\n",
       "      <td>2017-07-31 00:18:03 +0000</td>\n",
       "      <td>&lt;a href=\"http://twitter.com/download/iphone\" r...</td>\n",
       "      <td>This is Archie. He is a rare Norwegian Pouncin...</td>\n",
       "      <td>NaN</td>\n",
       "      <td>NaN</td>\n",
       "      <td>NaN</td>\n",
       "      <td>https://twitter.com/dog_rates/status/891815181...</td>\n",
       "      <td>12</td>\n",
       "      <td>10</td>\n",
       "      <td>Archie</td>\n",
       "      <td>None</td>\n",
       "      <td>None</td>\n",
       "      <td>None</td>\n",
       "      <td>None</td>\n",
       "    </tr>\n",
       "    <tr>\n",
       "      <th>3</th>\n",
       "      <td>891689557279858688</td>\n",
       "      <td>NaN</td>\n",
       "      <td>NaN</td>\n",
       "      <td>2017-07-30 15:58:51 +0000</td>\n",
       "      <td>&lt;a href=\"http://twitter.com/download/iphone\" r...</td>\n",
       "      <td>This is Darla. She commenced a snooze mid meal...</td>\n",
       "      <td>NaN</td>\n",
       "      <td>NaN</td>\n",
       "      <td>NaN</td>\n",
       "      <td>https://twitter.com/dog_rates/status/891689557...</td>\n",
       "      <td>13</td>\n",
       "      <td>10</td>\n",
       "      <td>Darla</td>\n",
       "      <td>None</td>\n",
       "      <td>None</td>\n",
       "      <td>None</td>\n",
       "      <td>None</td>\n",
       "    </tr>\n",
       "    <tr>\n",
       "      <th>4</th>\n",
       "      <td>891327558926688256</td>\n",
       "      <td>NaN</td>\n",
       "      <td>NaN</td>\n",
       "      <td>2017-07-29 16:00:24 +0000</td>\n",
       "      <td>&lt;a href=\"http://twitter.com/download/iphone\" r...</td>\n",
       "      <td>This is Franklin. He would like you to stop ca...</td>\n",
       "      <td>NaN</td>\n",
       "      <td>NaN</td>\n",
       "      <td>NaN</td>\n",
       "      <td>https://twitter.com/dog_rates/status/891327558...</td>\n",
       "      <td>12</td>\n",
       "      <td>10</td>\n",
       "      <td>Franklin</td>\n",
       "      <td>None</td>\n",
       "      <td>None</td>\n",
       "      <td>None</td>\n",
       "      <td>None</td>\n",
       "    </tr>\n",
       "    <tr>\n",
       "      <th>...</th>\n",
       "      <td>...</td>\n",
       "      <td>...</td>\n",
       "      <td>...</td>\n",
       "      <td>...</td>\n",
       "      <td>...</td>\n",
       "      <td>...</td>\n",
       "      <td>...</td>\n",
       "      <td>...</td>\n",
       "      <td>...</td>\n",
       "      <td>...</td>\n",
       "      <td>...</td>\n",
       "      <td>...</td>\n",
       "      <td>...</td>\n",
       "      <td>...</td>\n",
       "      <td>...</td>\n",
       "      <td>...</td>\n",
       "      <td>...</td>\n",
       "    </tr>\n",
       "    <tr>\n",
       "      <th>2351</th>\n",
       "      <td>666049248165822465</td>\n",
       "      <td>NaN</td>\n",
       "      <td>NaN</td>\n",
       "      <td>2015-11-16 00:24:50 +0000</td>\n",
       "      <td>&lt;a href=\"http://twitter.com/download/iphone\" r...</td>\n",
       "      <td>Here we have a 1949 1st generation vulpix. Enj...</td>\n",
       "      <td>NaN</td>\n",
       "      <td>NaN</td>\n",
       "      <td>NaN</td>\n",
       "      <td>https://twitter.com/dog_rates/status/666049248...</td>\n",
       "      <td>5</td>\n",
       "      <td>10</td>\n",
       "      <td>None</td>\n",
       "      <td>None</td>\n",
       "      <td>None</td>\n",
       "      <td>None</td>\n",
       "      <td>None</td>\n",
       "    </tr>\n",
       "    <tr>\n",
       "      <th>2352</th>\n",
       "      <td>666044226329800704</td>\n",
       "      <td>NaN</td>\n",
       "      <td>NaN</td>\n",
       "      <td>2015-11-16 00:04:52 +0000</td>\n",
       "      <td>&lt;a href=\"http://twitter.com/download/iphone\" r...</td>\n",
       "      <td>This is a purebred Piers Morgan. Loves to Netf...</td>\n",
       "      <td>NaN</td>\n",
       "      <td>NaN</td>\n",
       "      <td>NaN</td>\n",
       "      <td>https://twitter.com/dog_rates/status/666044226...</td>\n",
       "      <td>6</td>\n",
       "      <td>10</td>\n",
       "      <td>a</td>\n",
       "      <td>None</td>\n",
       "      <td>None</td>\n",
       "      <td>None</td>\n",
       "      <td>None</td>\n",
       "    </tr>\n",
       "    <tr>\n",
       "      <th>2353</th>\n",
       "      <td>666033412701032449</td>\n",
       "      <td>NaN</td>\n",
       "      <td>NaN</td>\n",
       "      <td>2015-11-15 23:21:54 +0000</td>\n",
       "      <td>&lt;a href=\"http://twitter.com/download/iphone\" r...</td>\n",
       "      <td>Here is a very happy pup. Big fan of well-main...</td>\n",
       "      <td>NaN</td>\n",
       "      <td>NaN</td>\n",
       "      <td>NaN</td>\n",
       "      <td>https://twitter.com/dog_rates/status/666033412...</td>\n",
       "      <td>9</td>\n",
       "      <td>10</td>\n",
       "      <td>a</td>\n",
       "      <td>None</td>\n",
       "      <td>None</td>\n",
       "      <td>None</td>\n",
       "      <td>None</td>\n",
       "    </tr>\n",
       "    <tr>\n",
       "      <th>2354</th>\n",
       "      <td>666029285002620928</td>\n",
       "      <td>NaN</td>\n",
       "      <td>NaN</td>\n",
       "      <td>2015-11-15 23:05:30 +0000</td>\n",
       "      <td>&lt;a href=\"http://twitter.com/download/iphone\" r...</td>\n",
       "      <td>This is a western brown Mitsubishi terrier. Up...</td>\n",
       "      <td>NaN</td>\n",
       "      <td>NaN</td>\n",
       "      <td>NaN</td>\n",
       "      <td>https://twitter.com/dog_rates/status/666029285...</td>\n",
       "      <td>7</td>\n",
       "      <td>10</td>\n",
       "      <td>a</td>\n",
       "      <td>None</td>\n",
       "      <td>None</td>\n",
       "      <td>None</td>\n",
       "      <td>None</td>\n",
       "    </tr>\n",
       "    <tr>\n",
       "      <th>2355</th>\n",
       "      <td>666020888022790149</td>\n",
       "      <td>NaN</td>\n",
       "      <td>NaN</td>\n",
       "      <td>2015-11-15 22:32:08 +0000</td>\n",
       "      <td>&lt;a href=\"http://twitter.com/download/iphone\" r...</td>\n",
       "      <td>Here we have a Japanese Irish Setter. Lost eye...</td>\n",
       "      <td>NaN</td>\n",
       "      <td>NaN</td>\n",
       "      <td>NaN</td>\n",
       "      <td>https://twitter.com/dog_rates/status/666020888...</td>\n",
       "      <td>8</td>\n",
       "      <td>10</td>\n",
       "      <td>None</td>\n",
       "      <td>None</td>\n",
       "      <td>None</td>\n",
       "      <td>None</td>\n",
       "      <td>None</td>\n",
       "    </tr>\n",
       "  </tbody>\n",
       "</table>\n",
       "<p>2356 rows × 17 columns</p>\n",
       "</div>"
      ],
      "text/plain": [
       "                tweet_id  in_reply_to_status_id  in_reply_to_user_id  \\\n",
       "0     892420643555336193                    NaN                  NaN   \n",
       "1     892177421306343426                    NaN                  NaN   \n",
       "2     891815181378084864                    NaN                  NaN   \n",
       "3     891689557279858688                    NaN                  NaN   \n",
       "4     891327558926688256                    NaN                  NaN   \n",
       "...                  ...                    ...                  ...   \n",
       "2351  666049248165822465                    NaN                  NaN   \n",
       "2352  666044226329800704                    NaN                  NaN   \n",
       "2353  666033412701032449                    NaN                  NaN   \n",
       "2354  666029285002620928                    NaN                  NaN   \n",
       "2355  666020888022790149                    NaN                  NaN   \n",
       "\n",
       "                      timestamp  \\\n",
       "0     2017-08-01 16:23:56 +0000   \n",
       "1     2017-08-01 00:17:27 +0000   \n",
       "2     2017-07-31 00:18:03 +0000   \n",
       "3     2017-07-30 15:58:51 +0000   \n",
       "4     2017-07-29 16:00:24 +0000   \n",
       "...                         ...   \n",
       "2351  2015-11-16 00:24:50 +0000   \n",
       "2352  2015-11-16 00:04:52 +0000   \n",
       "2353  2015-11-15 23:21:54 +0000   \n",
       "2354  2015-11-15 23:05:30 +0000   \n",
       "2355  2015-11-15 22:32:08 +0000   \n",
       "\n",
       "                                                 source  \\\n",
       "0     <a href=\"http://twitter.com/download/iphone\" r...   \n",
       "1     <a href=\"http://twitter.com/download/iphone\" r...   \n",
       "2     <a href=\"http://twitter.com/download/iphone\" r...   \n",
       "3     <a href=\"http://twitter.com/download/iphone\" r...   \n",
       "4     <a href=\"http://twitter.com/download/iphone\" r...   \n",
       "...                                                 ...   \n",
       "2351  <a href=\"http://twitter.com/download/iphone\" r...   \n",
       "2352  <a href=\"http://twitter.com/download/iphone\" r...   \n",
       "2353  <a href=\"http://twitter.com/download/iphone\" r...   \n",
       "2354  <a href=\"http://twitter.com/download/iphone\" r...   \n",
       "2355  <a href=\"http://twitter.com/download/iphone\" r...   \n",
       "\n",
       "                                                   text  retweeted_status_id  \\\n",
       "0     This is Phineas. He's a mystical boy. Only eve...                  NaN   \n",
       "1     This is Tilly. She's just checking pup on you....                  NaN   \n",
       "2     This is Archie. He is a rare Norwegian Pouncin...                  NaN   \n",
       "3     This is Darla. She commenced a snooze mid meal...                  NaN   \n",
       "4     This is Franklin. He would like you to stop ca...                  NaN   \n",
       "...                                                 ...                  ...   \n",
       "2351  Here we have a 1949 1st generation vulpix. Enj...                  NaN   \n",
       "2352  This is a purebred Piers Morgan. Loves to Netf...                  NaN   \n",
       "2353  Here is a very happy pup. Big fan of well-main...                  NaN   \n",
       "2354  This is a western brown Mitsubishi terrier. Up...                  NaN   \n",
       "2355  Here we have a Japanese Irish Setter. Lost eye...                  NaN   \n",
       "\n",
       "      retweeted_status_user_id retweeted_status_timestamp  \\\n",
       "0                          NaN                        NaN   \n",
       "1                          NaN                        NaN   \n",
       "2                          NaN                        NaN   \n",
       "3                          NaN                        NaN   \n",
       "4                          NaN                        NaN   \n",
       "...                        ...                        ...   \n",
       "2351                       NaN                        NaN   \n",
       "2352                       NaN                        NaN   \n",
       "2353                       NaN                        NaN   \n",
       "2354                       NaN                        NaN   \n",
       "2355                       NaN                        NaN   \n",
       "\n",
       "                                          expanded_urls  rating_numerator  \\\n",
       "0     https://twitter.com/dog_rates/status/892420643...                13   \n",
       "1     https://twitter.com/dog_rates/status/892177421...                13   \n",
       "2     https://twitter.com/dog_rates/status/891815181...                12   \n",
       "3     https://twitter.com/dog_rates/status/891689557...                13   \n",
       "4     https://twitter.com/dog_rates/status/891327558...                12   \n",
       "...                                                 ...               ...   \n",
       "2351  https://twitter.com/dog_rates/status/666049248...                 5   \n",
       "2352  https://twitter.com/dog_rates/status/666044226...                 6   \n",
       "2353  https://twitter.com/dog_rates/status/666033412...                 9   \n",
       "2354  https://twitter.com/dog_rates/status/666029285...                 7   \n",
       "2355  https://twitter.com/dog_rates/status/666020888...                 8   \n",
       "\n",
       "      rating_denominator      name doggo floofer pupper puppo  \n",
       "0                     10   Phineas  None    None   None  None  \n",
       "1                     10     Tilly  None    None   None  None  \n",
       "2                     10    Archie  None    None   None  None  \n",
       "3                     10     Darla  None    None   None  None  \n",
       "4                     10  Franklin  None    None   None  None  \n",
       "...                  ...       ...   ...     ...    ...   ...  \n",
       "2351                  10      None  None    None   None  None  \n",
       "2352                  10         a  None    None   None  None  \n",
       "2353                  10         a  None    None   None  None  \n",
       "2354                  10         a  None    None   None  None  \n",
       "2355                  10      None  None    None   None  None  \n",
       "\n",
       "[2356 rows x 17 columns]"
      ]
     },
     "execution_count": 13,
     "metadata": {},
     "output_type": "execute_result"
    }
   ],
   "source": [
    "# Load the dataframe\n",
    "twitter_archive"
   ]
  },
  {
   "cell_type": "markdown",
   "metadata": {},
   "source": [
    "##### Programmatic Assessment"
   ]
  },
  {
   "cell_type": "code",
   "execution_count": 14,
   "metadata": {},
   "outputs": [
    {
     "name": "stdout",
     "output_type": "stream",
     "text": [
      "<class 'pandas.core.frame.DataFrame'>\n",
      "RangeIndex: 2356 entries, 0 to 2355\n",
      "Data columns (total 17 columns):\n",
      " #   Column                      Non-Null Count  Dtype  \n",
      "---  ------                      --------------  -----  \n",
      " 0   tweet_id                    2356 non-null   int64  \n",
      " 1   in_reply_to_status_id       78 non-null     float64\n",
      " 2   in_reply_to_user_id         78 non-null     float64\n",
      " 3   timestamp                   2356 non-null   object \n",
      " 4   source                      2356 non-null   object \n",
      " 5   text                        2356 non-null   object \n",
      " 6   retweeted_status_id         181 non-null    float64\n",
      " 7   retweeted_status_user_id    181 non-null    float64\n",
      " 8   retweeted_status_timestamp  181 non-null    object \n",
      " 9   expanded_urls               2297 non-null   object \n",
      " 10  rating_numerator            2356 non-null   int64  \n",
      " 11  rating_denominator          2356 non-null   int64  \n",
      " 12  name                        2356 non-null   object \n",
      " 13  doggo                       2356 non-null   object \n",
      " 14  floofer                     2356 non-null   object \n",
      " 15  pupper                      2356 non-null   object \n",
      " 16  puppo                       2356 non-null   object \n",
      "dtypes: float64(4), int64(3), object(10)\n",
      "memory usage: 313.0+ KB\n"
     ]
    }
   ],
   "source": [
    "# View concise summary of the data\n",
    "twitter_archive.info()"
   ]
  },
  {
   "cell_type": "code",
   "execution_count": 15,
   "metadata": {},
   "outputs": [
    {
     "data": {
      "text/plain": [
       "array(['Phineas', 'Tilly', 'Archie', 'Darla', 'Franklin', 'None', 'Jax',\n",
       "       'Zoey', 'Cassie', 'Koda', 'Bruno', 'Ted', 'Stuart', 'Oliver',\n",
       "       'Jim', 'Zeke', 'Ralphus', 'Canela', 'Gerald', 'Jeffrey', 'such',\n",
       "       'Maya', 'Mingus', 'Derek', 'Roscoe', 'Waffles', 'Jimbo', 'Maisey',\n",
       "       'Lilly', 'Earl', 'Lola', 'Kevin', 'Yogi', 'Noah', 'Bella',\n",
       "       'Grizzwald', 'Rusty', 'Gus', 'Stanley', 'Alfy', 'Koko', 'Rey',\n",
       "       'Gary', 'a', 'Elliot', 'Louis', 'Jesse', 'Romeo', 'Bailey',\n",
       "       'Duddles', 'Jack', 'Emmy', 'Steven', 'Beau', 'Snoopy', 'Shadow',\n",
       "       'Terrance', 'Aja', 'Penny', 'Dante', 'Nelly', 'Ginger', 'Benedict',\n",
       "       'Venti', 'Goose', 'Nugget', 'Cash', 'Coco', 'Jed', 'Sebastian',\n",
       "       'Walter', 'Sierra', 'Monkey', 'Harry', 'Kody', 'Lassie', 'Rover',\n",
       "       'Napolean', 'Dawn', 'Boomer', 'Cody', 'Rumble', 'Clifford',\n",
       "       'quite', 'Dewey', 'Scout', 'Gizmo', 'Cooper', 'Harold', 'Shikha',\n",
       "       'Jamesy', 'Lili', 'Sammy', 'Meatball', 'Paisley', 'Albus',\n",
       "       'Neptune', 'Quinn', 'Belle', 'Zooey', 'Dave', 'Jersey', 'Hobbes',\n",
       "       'Burt', 'Lorenzo', 'Carl', 'Jordy', 'Milky', 'Trooper', 'Winston',\n",
       "       'Sophie', 'Wyatt', 'Rosie', 'Thor', 'Oscar', 'Luna', 'Callie',\n",
       "       'Cermet', 'George', 'Marlee', 'Arya', 'Einstein', 'Alice',\n",
       "       'Rumpole', 'Benny', 'Aspen', 'Jarod', 'Wiggles', 'General',\n",
       "       'Sailor', 'Astrid', 'Iggy', 'Snoop', 'Kyle', 'Leo', 'Riley',\n",
       "       'Gidget', 'Noosh', 'Odin', 'Jerry', 'Charlie', 'Georgie', 'Rontu',\n",
       "       'Cannon', 'Furzey', 'Daisy', 'Tuck', 'Barney', 'Vixen', 'Jarvis',\n",
       "       'Mimosa', 'Pickles', 'Bungalo', 'Brady', 'Margo', 'Sadie', 'Hank',\n",
       "       'Tycho', 'Stephan', 'Indie', 'Winnie', 'Bentley', 'Ken', 'Max',\n",
       "       'Maddie', 'Pipsy', 'Monty', 'Sojourner', 'Odie', 'Arlo', 'Sunny',\n",
       "       'Vincent', 'Lucy', 'Clark', 'Mookie', 'Meera', 'Buddy', 'Ava',\n",
       "       'Rory', 'Eli', 'Ash', 'Tucker', 'Tobi', 'Chester', 'Wilson',\n",
       "       'Sunshine', 'Lipton', 'Gabby', 'Bronte', 'Poppy', 'Rhino',\n",
       "       'Willow', 'not', 'Orion', 'Eevee', 'Smiley', 'Logan', 'Moreton',\n",
       "       'Klein', 'Miguel', 'Emanuel', 'Kuyu', 'Dutch', 'Pete', 'Scooter',\n",
       "       'Reggie', 'Kyro', 'Samson', 'Loki', 'Mia', 'Malcolm', 'Dexter',\n",
       "       'Alfie', 'Fiona', 'one', 'Mutt', 'Bear', 'Doobert', 'Beebop',\n",
       "       'Alexander', 'Sailer', 'Brutus', 'Kona', 'Boots', 'Ralphie',\n",
       "       'Phil', 'Cupid', 'Pawnd', 'Pilot', 'Ike', 'Mo', 'Toby', 'Sweet',\n",
       "       'Pablo', 'Nala', 'Balto', 'Crawford', 'Gabe', 'Mattie', 'Jimison',\n",
       "       'Hercules', 'Duchess', 'Harlso', 'Sampson', 'Sundance', 'Luca',\n",
       "       'Flash', 'Finn', 'Peaches', 'Howie', 'Jazzy', 'Anna', 'Bo',\n",
       "       'Seamus', 'Wafer', 'Chelsea', 'Tom', 'Moose', 'Florence', 'Autumn',\n",
       "       'Dido', 'Eugene', 'Herschel', 'Strudel', 'Tebow', 'Chloe', 'Betty',\n",
       "       'Timber', 'Binky', 'Dudley', 'Comet', 'Larry', 'Levi', 'Akumi',\n",
       "       'Titan', 'Olivia', 'Alf', 'Oshie', 'Bruce', 'Chubbs', 'Sky',\n",
       "       'Atlas', 'Eleanor', 'Layla', 'Rocky', 'Baron', 'Tyr', 'Bauer',\n",
       "       'Swagger', 'Brandi', 'Mary', 'Moe', 'Halo', 'Augie', 'Craig',\n",
       "       'Sam', 'Hunter', 'Pavlov', 'Maximus', 'Wallace', 'Ito', 'Milo',\n",
       "       'Ollie', 'Cali', 'Lennon', 'incredibly', 'Major', 'Duke',\n",
       "       'Reginald', 'Sansa', 'Shooter', 'Django', 'Diogi', 'Sonny',\n",
       "       'Philbert', 'Marley', 'Severus', 'Ronnie', 'Anakin', 'Bones',\n",
       "       'Mauve', 'Chef', 'Doc', 'Sobe', 'Longfellow', 'Mister', 'Iroh',\n",
       "       'Baloo', 'Stubert', 'Paull', 'Timison', 'Davey', 'Pancake',\n",
       "       'Tyrone', 'Snicku', 'Ruby', 'Brody', 'Rizzy', 'Mack', 'Butter',\n",
       "       'Nimbus', 'Laika', 'Dobby', 'Juno', 'Maude', 'Lily', 'Newt',\n",
       "       'Benji', 'Nida', 'Robin', 'Monster', 'BeBe', 'Remus', 'Mabel',\n",
       "       'Misty', 'Happy', 'Mosby', 'Maggie', 'Leela', 'Ralphy', 'Brownie',\n",
       "       'Meyer', 'Stella', 'mad', 'Frank', 'Tonks', 'Lincoln', 'Oakley',\n",
       "       'Dale', 'Rizzo', 'Arnie', 'Pinot', 'Dallas', 'Hero', 'Frankie',\n",
       "       'Stormy', 'Mairi', 'Loomis', 'Godi', 'Kenny', 'Deacon', 'Timmy',\n",
       "       'Harper', 'Chipson', 'Combo', 'Dash', 'Bell', 'Hurley', 'Jay',\n",
       "       'Mya', 'Strider', 'an', 'Wesley', 'Solomon', 'Huck', 'very', 'O',\n",
       "       'Blue', 'Finley', 'Sprinkles', 'Heinrich', 'Shakespeare', 'Fizz',\n",
       "       'Chip', 'Grey', 'Roosevelt', 'Gromit', 'Willem', 'Dakota', 'Dixie',\n",
       "       'Al', 'Jackson', 'just', 'Carbon', 'DonDon', 'Kirby', 'Lou',\n",
       "       'Nollie', 'Chevy', 'Tito', 'Louie', 'Rupert', 'Rufus', 'Brudge',\n",
       "       'Shadoe', 'Colby', 'Angel', 'Brat', 'Tove', 'my', 'Aubie', 'Kota',\n",
       "       'Eve', 'Glenn', 'Shelby', 'Sephie', 'Bonaparte', 'Albert',\n",
       "       'Wishes', 'Rose', 'Theo', 'Rocco', 'Fido', 'Emma', 'Spencer',\n",
       "       'Lilli', 'Boston', 'Brandonald', 'Corey', 'Leonard', 'Chompsky',\n",
       "       'Beckham', 'Devón', 'Gert', 'Watson', 'Rubio', 'Keith', 'Dex',\n",
       "       'Carly', 'Ace', 'Tayzie', 'Grizzie', 'Fred', 'Gilbert', 'Zoe',\n",
       "       'Stewie', 'Calvin', 'Lilah', 'Spanky', 'Jameson', 'Piper',\n",
       "       'Atticus', 'Blu', 'Dietrich', 'Divine', 'Tripp', 'his', 'Cora',\n",
       "       'Huxley', 'Keurig', 'Bookstore', 'Linus', 'Abby', 'Shaggy',\n",
       "       'Shiloh', 'Gustav', 'Arlen', 'Percy', 'Lenox', 'Sugar', 'Harvey',\n",
       "       'Blanket', 'actually', 'Geno', 'Stark', 'Beya', 'Kilo', 'Kayla',\n",
       "       'Maxaroni', 'Doug', 'Edmund', 'Aqua', 'Theodore', 'Chase',\n",
       "       'getting', 'Rorie', 'Simba', 'Charles', 'Bayley', 'Axel',\n",
       "       'Storkson', 'Remy', 'Chadrick', 'Kellogg', 'Buckley', 'Livvie',\n",
       "       'Terry', 'Hermione', 'Ralpher', 'Aldrick', 'this', 'unacceptable',\n",
       "       'Rooney', 'Crystal', 'Ziva', 'Stefan', 'Pupcasso', 'Puff',\n",
       "       'Flurpson', 'Coleman', 'Enchilada', 'Raymond', 'all', 'Rueben',\n",
       "       'Cilantro', 'Karll', 'Sprout', 'Blitz', 'Bloop', 'Lillie',\n",
       "       'Ashleigh', 'Kreggory', 'Sarge', 'Luther', 'Ivar', 'Jangle',\n",
       "       'Schnitzel', 'Panda', 'Berkeley', 'Ralphé', 'Charleson', 'Clyde',\n",
       "       'Harnold', 'Sid', 'Pippa', 'Otis', 'Carper', 'Bowie',\n",
       "       'Alexanderson', 'Suki', 'Barclay', 'Skittle', 'Ebby', 'Flávio',\n",
       "       'Smokey', 'Link', 'Jennifur', 'Ozzy', 'Bluebert', 'Stephanus',\n",
       "       'Bubbles', 'old', 'Zeus', 'Bertson', 'Nico', 'Michelangelope',\n",
       "       'Siba', 'Calbert', 'Curtis', 'Travis', 'Thumas', 'Kanu', 'Lance',\n",
       "       'Opie', 'Kane', 'Olive', 'Chuckles', 'Staniel', 'Sora', 'Beemo',\n",
       "       'Gunner', 'infuriating', 'Lacy', 'Tater', 'Olaf', 'Cecil', 'Vince',\n",
       "       'Karma', 'Billy', 'Walker', 'Rodney', 'Klevin', 'Malikai',\n",
       "       'Bobble', 'River', 'Jebberson', 'Remington', 'Farfle', 'Jiminus',\n",
       "       'Clarkus', 'Finnegus', 'Cupcake', 'Kathmandu', 'Ellie', 'Katie',\n",
       "       'Kara', 'Adele', 'Zara', 'Ambrose', 'Jimothy', 'Bode', 'Terrenth',\n",
       "       'Reese', 'Chesterson', 'Lucia', 'Bisquick', 'Ralphson', 'Socks',\n",
       "       'Rambo', 'Rudy', 'Fiji', 'Rilo', 'Bilbo', 'Coopson', 'Yoda',\n",
       "       'Millie', 'Chet', 'Crouton', 'Daniel', 'Kaia', 'Murphy', 'Dotsy',\n",
       "       'Eazy', 'Coops', 'Fillup', 'Miley', 'Charl', 'Reagan', 'Yukon',\n",
       "       'CeCe', 'Cuddles', 'Claude', 'Jessiga', 'Carter', 'Ole', 'Pherb',\n",
       "       'Blipson', 'Reptar', 'Trevith', 'Berb', 'Bob', 'Colin', 'Brian',\n",
       "       'Oliviér', 'Grady', 'Kobe', 'Freddery', 'Bodie', 'Dunkin', 'Wally',\n",
       "       'Tupawc', 'Amber', 'Edgar', 'Teddy', 'Kingsley', 'Brockly',\n",
       "       'Richie', 'Molly', 'Vinscent', 'Cedrick', 'Hazel', 'Lolo', 'Eriq',\n",
       "       'Phred', 'the', 'Oddie', 'Maxwell', 'Geoff', 'Covach', 'Durg',\n",
       "       'Fynn', 'Ricky', 'Herald', 'Lucky', 'Ferg', 'Trip', 'Clarence',\n",
       "       'Hamrick', 'Brad', 'Pubert', 'Frönq', 'Derby', 'Lizzie', 'Ember',\n",
       "       'Blakely', 'Opal', 'Marq', 'Kramer', 'Barry', 'Gordon', 'Baxter',\n",
       "       'Mona', 'Horace', 'Crimson', 'Birf', 'Hammond', 'Lorelei', 'Marty',\n",
       "       'Brooks', 'Petrick', 'Hubertson', 'Gerbald', 'Oreo', 'Bruiser',\n",
       "       'Perry', 'Bobby', 'Jeph', 'Obi', 'Tino', 'Kulet', 'Sweets', 'Lupe',\n",
       "       'Tiger', 'Jiminy', 'Griffin', 'Banjo', 'Brandy', 'Lulu', 'Darrel',\n",
       "       'Taco', 'Joey', 'Patrick', 'Kreg', 'Todo', 'Tess', 'Ulysses',\n",
       "       'Toffee', 'Apollo', 'Asher', 'Glacier', 'Chuck', 'Champ', 'Ozzie',\n",
       "       'Griswold', 'Cheesy', 'Moofasa', 'Hector', 'Goliath', 'Kawhi',\n",
       "       'by', 'Emmie', 'Penelope', 'Willie', 'Rinna', 'Mike', 'William',\n",
       "       'Dwight', 'Evy', 'officially', 'Rascal', 'Linda', 'Tug', 'Tango',\n",
       "       'Grizz', 'Jerome', 'Crumpet', 'Jessifer', 'Izzy', 'Ralph', 'Sandy',\n",
       "       'Humphrey', 'Tassy', 'Juckson', 'Chuq', 'Tyrus', 'Karl',\n",
       "       'Godzilla', 'Vinnie', 'Kenneth', 'Herm', 'Bert', 'Striker',\n",
       "       'Donny', 'Pepper', 'Bernie', 'Buddah', 'Lenny', 'Arnold', 'Zuzu',\n",
       "       'Mollie', 'Laela', 'Tedders', 'Superpup', 'Rufio', 'Jeb', 'Rodman',\n",
       "       'Jonah', 'Chesney', 'life', 'Henry', 'Bobbay', 'Mitch', 'Kaiya',\n",
       "       'Acro', 'Aiden', 'Obie', 'Dot', 'Shnuggles', 'Kendall', 'Jeffri',\n",
       "       'Steve', 'Mac', 'Fletcher', 'Kenzie', 'Pumpkin', 'Schnozz',\n",
       "       'Gustaf', 'Cheryl', 'Ed', 'Leonidas', 'Norman', 'Caryl', 'Scott',\n",
       "       'Taz', 'Darby', 'Jackie', 'light', 'Jazz', 'Franq', 'Pippin',\n",
       "       'Rolf', 'Snickers', 'Ridley', 'Cal', 'Bradley', 'Bubba', 'Tuco',\n",
       "       'Patch', 'Mojo', 'Batdog', 'Dylan', 'space', 'Mark', 'JD',\n",
       "       'Alejandro', 'Scruffers', 'Pip', 'Julius', 'Tanner', 'Sparky',\n",
       "       'Anthony', 'Holly', 'Jett', 'Amy', 'Sage', 'Andy', 'Mason',\n",
       "       'Trigger', 'Antony', 'Creg', 'Traviss', 'Gin', 'Jeffrie', 'Danny',\n",
       "       'Ester', 'Pluto', 'Bloo', 'Edd', 'Willy', 'Herb', 'Damon',\n",
       "       'Peanut', 'Nigel', 'Butters', 'Sandra', 'Fabio', 'Randall', 'Liam',\n",
       "       'Tommy', 'Ben', 'Raphael', 'Julio', 'Andru', 'Kloey', 'Shawwn',\n",
       "       'Skye', 'Kollin', 'Ronduh', 'Billl', 'Saydee', 'Dug', 'Tessa',\n",
       "       'Sully', 'Kirk', 'Ralf', 'Clarq', 'Jaspers', 'Samsom', 'Harrison',\n",
       "       'Chaz', 'Jeremy', 'Jaycob', 'Lambeau', 'Ruffles', 'Amélie', 'Bobb',\n",
       "       'Banditt', 'Kevon', 'Winifred', 'Hanz', 'Churlie', 'Zeek',\n",
       "       'Timofy', 'Maks', 'Jomathan', 'Kallie', 'Marvin', 'Spark',\n",
       "       'Gòrdón', 'Jo', 'DayZ', 'Jareld', 'Torque', 'Ron', 'Skittles',\n",
       "       'Cleopatricia', 'Erik', 'Stu', 'Tedrick', 'Filup', 'Kial',\n",
       "       'Naphaniel', 'Dook', 'Hall', 'Philippe', 'Biden', 'Fwed',\n",
       "       'Genevieve', 'Joshwa', 'Bradlay', 'Clybe', 'Keet', 'Carll',\n",
       "       'Jockson', 'Josep', 'Lugan', 'Christoper'], dtype=object)"
      ]
     },
     "execution_count": 15,
     "metadata": {},
     "output_type": "execute_result"
    }
   ],
   "source": [
    "# Check for unique values in name column\n",
    "twitter_archive['name'].unique()"
   ]
  },
  {
   "cell_type": "code",
   "execution_count": 16,
   "metadata": {},
   "outputs": [
    {
     "data": {
      "text/plain": [
       "None          745\n",
       "a              55\n",
       "Charlie        12\n",
       "Cooper         11\n",
       "Lucy           11\n",
       "             ... \n",
       "Dex             1\n",
       "Ace             1\n",
       "Tayzie          1\n",
       "Grizzie         1\n",
       "Christoper      1\n",
       "Name: name, Length: 957, dtype: int64"
      ]
     },
     "execution_count": 16,
     "metadata": {},
     "output_type": "execute_result"
    }
   ],
   "source": [
    "# Check for count of unique values in name column\n",
    "twitter_archive['name'].value_counts()"
   ]
  },
  {
   "cell_type": "code",
   "execution_count": 17,
   "metadata": {},
   "outputs": [
    {
     "data": {
      "text/plain": [
       "tweet_id                         0\n",
       "in_reply_to_status_id         2278\n",
       "in_reply_to_user_id           2278\n",
       "timestamp                        0\n",
       "source                           0\n",
       "text                             0\n",
       "retweeted_status_id           2175\n",
       "retweeted_status_user_id      2175\n",
       "retweeted_status_timestamp    2175\n",
       "expanded_urls                   59\n",
       "rating_numerator                 0\n",
       "rating_denominator               0\n",
       "name                             0\n",
       "doggo                            0\n",
       "floofer                          0\n",
       "pupper                           0\n",
       "puppo                            0\n",
       "dtype: int64"
      ]
     },
     "execution_count": 17,
     "metadata": {},
     "output_type": "execute_result"
    }
   ],
   "source": [
    "# Check for missing values\n",
    "twitter_archive.isna().sum()"
   ]
  },
  {
   "cell_type": "code",
   "execution_count": 18,
   "metadata": {},
   "outputs": [
    {
     "data": {
      "text/plain": [
       "0"
      ]
     },
     "execution_count": 18,
     "metadata": {},
     "output_type": "execute_result"
    }
   ],
   "source": [
    "# Check for duplicates\n",
    "twitter_archive.duplicated().sum()"
   ]
  },
  {
   "cell_type": "code",
   "execution_count": 19,
   "metadata": {},
   "outputs": [
    {
     "data": {
      "text/plain": [
       "181"
      ]
     },
     "execution_count": 19,
     "metadata": {},
     "output_type": "execute_result"
    }
   ],
   "source": [
    "# Check how many tweets are retweets\n",
    "twitter_archive.retweeted_status_id.count()"
   ]
  },
  {
   "cell_type": "code",
   "execution_count": 20,
   "metadata": {},
   "outputs": [
    {
     "data": {
      "text/html": [
       "<div>\n",
       "<style scoped>\n",
       "    .dataframe tbody tr th:only-of-type {\n",
       "        vertical-align: middle;\n",
       "    }\n",
       "\n",
       "    .dataframe tbody tr th {\n",
       "        vertical-align: top;\n",
       "    }\n",
       "\n",
       "    .dataframe thead th {\n",
       "        text-align: right;\n",
       "    }\n",
       "</style>\n",
       "<table border=\"1\" class=\"dataframe\">\n",
       "  <thead>\n",
       "    <tr style=\"text-align: right;\">\n",
       "      <th></th>\n",
       "      <th>tweet_id</th>\n",
       "      <th>in_reply_to_status_id</th>\n",
       "      <th>in_reply_to_user_id</th>\n",
       "      <th>retweeted_status_id</th>\n",
       "      <th>retweeted_status_user_id</th>\n",
       "      <th>rating_numerator</th>\n",
       "      <th>rating_denominator</th>\n",
       "    </tr>\n",
       "  </thead>\n",
       "  <tbody>\n",
       "    <tr>\n",
       "      <th>count</th>\n",
       "      <td>2.356000e+03</td>\n",
       "      <td>7.800000e+01</td>\n",
       "      <td>7.800000e+01</td>\n",
       "      <td>1.810000e+02</td>\n",
       "      <td>1.810000e+02</td>\n",
       "      <td>2356.000000</td>\n",
       "      <td>2356.000000</td>\n",
       "    </tr>\n",
       "    <tr>\n",
       "      <th>mean</th>\n",
       "      <td>7.427716e+17</td>\n",
       "      <td>7.455079e+17</td>\n",
       "      <td>2.014171e+16</td>\n",
       "      <td>7.720400e+17</td>\n",
       "      <td>1.241698e+16</td>\n",
       "      <td>13.126486</td>\n",
       "      <td>10.455433</td>\n",
       "    </tr>\n",
       "    <tr>\n",
       "      <th>std</th>\n",
       "      <td>6.856705e+16</td>\n",
       "      <td>7.582492e+16</td>\n",
       "      <td>1.252797e+17</td>\n",
       "      <td>6.236928e+16</td>\n",
       "      <td>9.599254e+16</td>\n",
       "      <td>45.876648</td>\n",
       "      <td>6.745237</td>\n",
       "    </tr>\n",
       "    <tr>\n",
       "      <th>min</th>\n",
       "      <td>6.660209e+17</td>\n",
       "      <td>6.658147e+17</td>\n",
       "      <td>1.185634e+07</td>\n",
       "      <td>6.661041e+17</td>\n",
       "      <td>7.832140e+05</td>\n",
       "      <td>0.000000</td>\n",
       "      <td>0.000000</td>\n",
       "    </tr>\n",
       "    <tr>\n",
       "      <th>25%</th>\n",
       "      <td>6.783989e+17</td>\n",
       "      <td>6.757419e+17</td>\n",
       "      <td>3.086374e+08</td>\n",
       "      <td>7.186315e+17</td>\n",
       "      <td>4.196984e+09</td>\n",
       "      <td>10.000000</td>\n",
       "      <td>10.000000</td>\n",
       "    </tr>\n",
       "    <tr>\n",
       "      <th>50%</th>\n",
       "      <td>7.196279e+17</td>\n",
       "      <td>7.038708e+17</td>\n",
       "      <td>4.196984e+09</td>\n",
       "      <td>7.804657e+17</td>\n",
       "      <td>4.196984e+09</td>\n",
       "      <td>11.000000</td>\n",
       "      <td>10.000000</td>\n",
       "    </tr>\n",
       "    <tr>\n",
       "      <th>75%</th>\n",
       "      <td>7.993373e+17</td>\n",
       "      <td>8.257804e+17</td>\n",
       "      <td>4.196984e+09</td>\n",
       "      <td>8.203146e+17</td>\n",
       "      <td>4.196984e+09</td>\n",
       "      <td>12.000000</td>\n",
       "      <td>10.000000</td>\n",
       "    </tr>\n",
       "    <tr>\n",
       "      <th>max</th>\n",
       "      <td>8.924206e+17</td>\n",
       "      <td>8.862664e+17</td>\n",
       "      <td>8.405479e+17</td>\n",
       "      <td>8.874740e+17</td>\n",
       "      <td>7.874618e+17</td>\n",
       "      <td>1776.000000</td>\n",
       "      <td>170.000000</td>\n",
       "    </tr>\n",
       "  </tbody>\n",
       "</table>\n",
       "</div>"
      ],
      "text/plain": [
       "           tweet_id  in_reply_to_status_id  in_reply_to_user_id  \\\n",
       "count  2.356000e+03           7.800000e+01         7.800000e+01   \n",
       "mean   7.427716e+17           7.455079e+17         2.014171e+16   \n",
       "std    6.856705e+16           7.582492e+16         1.252797e+17   \n",
       "min    6.660209e+17           6.658147e+17         1.185634e+07   \n",
       "25%    6.783989e+17           6.757419e+17         3.086374e+08   \n",
       "50%    7.196279e+17           7.038708e+17         4.196984e+09   \n",
       "75%    7.993373e+17           8.257804e+17         4.196984e+09   \n",
       "max    8.924206e+17           8.862664e+17         8.405479e+17   \n",
       "\n",
       "       retweeted_status_id  retweeted_status_user_id  rating_numerator  \\\n",
       "count         1.810000e+02              1.810000e+02       2356.000000   \n",
       "mean          7.720400e+17              1.241698e+16         13.126486   \n",
       "std           6.236928e+16              9.599254e+16         45.876648   \n",
       "min           6.661041e+17              7.832140e+05          0.000000   \n",
       "25%           7.186315e+17              4.196984e+09         10.000000   \n",
       "50%           7.804657e+17              4.196984e+09         11.000000   \n",
       "75%           8.203146e+17              4.196984e+09         12.000000   \n",
       "max           8.874740e+17              7.874618e+17       1776.000000   \n",
       "\n",
       "       rating_denominator  \n",
       "count         2356.000000  \n",
       "mean            10.455433  \n",
       "std              6.745237  \n",
       "min              0.000000  \n",
       "25%             10.000000  \n",
       "50%             10.000000  \n",
       "75%             10.000000  \n",
       "max            170.000000  "
      ]
     },
     "execution_count": 20,
     "metadata": {},
     "output_type": "execute_result"
    }
   ],
   "source": [
    "# View summary statistics\n",
    "twitter_archive.describe()"
   ]
  },
  {
   "cell_type": "markdown",
   "metadata": {},
   "source": [
    "### DataFrame 2: `image_predictions`"
   ]
  },
  {
   "cell_type": "markdown",
   "metadata": {},
   "source": [
    "##### Visual Assessment"
   ]
  },
  {
   "cell_type": "code",
   "execution_count": 21,
   "metadata": {
    "scrolled": false
   },
   "outputs": [
    {
     "data": {
      "text/html": [
       "<div>\n",
       "<style scoped>\n",
       "    .dataframe tbody tr th:only-of-type {\n",
       "        vertical-align: middle;\n",
       "    }\n",
       "\n",
       "    .dataframe tbody tr th {\n",
       "        vertical-align: top;\n",
       "    }\n",
       "\n",
       "    .dataframe thead th {\n",
       "        text-align: right;\n",
       "    }\n",
       "</style>\n",
       "<table border=\"1\" class=\"dataframe\">\n",
       "  <thead>\n",
       "    <tr style=\"text-align: right;\">\n",
       "      <th></th>\n",
       "      <th>tweet_id</th>\n",
       "      <th>jpg_url</th>\n",
       "      <th>img_num</th>\n",
       "      <th>p1</th>\n",
       "      <th>p1_conf</th>\n",
       "      <th>p1_dog</th>\n",
       "      <th>p2</th>\n",
       "      <th>p2_conf</th>\n",
       "      <th>p2_dog</th>\n",
       "      <th>p3</th>\n",
       "      <th>p3_conf</th>\n",
       "      <th>p3_dog</th>\n",
       "    </tr>\n",
       "  </thead>\n",
       "  <tbody>\n",
       "    <tr>\n",
       "      <th>0</th>\n",
       "      <td>666020888022790149</td>\n",
       "      <td>https://pbs.twimg.com/media/CT4udn0WwAA0aMy.jpg</td>\n",
       "      <td>1</td>\n",
       "      <td>Welsh_springer_spaniel</td>\n",
       "      <td>0.465074</td>\n",
       "      <td>True</td>\n",
       "      <td>collie</td>\n",
       "      <td>0.156665</td>\n",
       "      <td>True</td>\n",
       "      <td>Shetland_sheepdog</td>\n",
       "      <td>0.061428</td>\n",
       "      <td>True</td>\n",
       "    </tr>\n",
       "    <tr>\n",
       "      <th>1</th>\n",
       "      <td>666029285002620928</td>\n",
       "      <td>https://pbs.twimg.com/media/CT42GRgUYAA5iDo.jpg</td>\n",
       "      <td>1</td>\n",
       "      <td>redbone</td>\n",
       "      <td>0.506826</td>\n",
       "      <td>True</td>\n",
       "      <td>miniature_pinscher</td>\n",
       "      <td>0.074192</td>\n",
       "      <td>True</td>\n",
       "      <td>Rhodesian_ridgeback</td>\n",
       "      <td>0.072010</td>\n",
       "      <td>True</td>\n",
       "    </tr>\n",
       "    <tr>\n",
       "      <th>2</th>\n",
       "      <td>666033412701032449</td>\n",
       "      <td>https://pbs.twimg.com/media/CT4521TWwAEvMyu.jpg</td>\n",
       "      <td>1</td>\n",
       "      <td>German_shepherd</td>\n",
       "      <td>0.596461</td>\n",
       "      <td>True</td>\n",
       "      <td>malinois</td>\n",
       "      <td>0.138584</td>\n",
       "      <td>True</td>\n",
       "      <td>bloodhound</td>\n",
       "      <td>0.116197</td>\n",
       "      <td>True</td>\n",
       "    </tr>\n",
       "    <tr>\n",
       "      <th>3</th>\n",
       "      <td>666044226329800704</td>\n",
       "      <td>https://pbs.twimg.com/media/CT5Dr8HUEAA-lEu.jpg</td>\n",
       "      <td>1</td>\n",
       "      <td>Rhodesian_ridgeback</td>\n",
       "      <td>0.408143</td>\n",
       "      <td>True</td>\n",
       "      <td>redbone</td>\n",
       "      <td>0.360687</td>\n",
       "      <td>True</td>\n",
       "      <td>miniature_pinscher</td>\n",
       "      <td>0.222752</td>\n",
       "      <td>True</td>\n",
       "    </tr>\n",
       "    <tr>\n",
       "      <th>4</th>\n",
       "      <td>666049248165822465</td>\n",
       "      <td>https://pbs.twimg.com/media/CT5IQmsXIAAKY4A.jpg</td>\n",
       "      <td>1</td>\n",
       "      <td>miniature_pinscher</td>\n",
       "      <td>0.560311</td>\n",
       "      <td>True</td>\n",
       "      <td>Rottweiler</td>\n",
       "      <td>0.243682</td>\n",
       "      <td>True</td>\n",
       "      <td>Doberman</td>\n",
       "      <td>0.154629</td>\n",
       "      <td>True</td>\n",
       "    </tr>\n",
       "    <tr>\n",
       "      <th>...</th>\n",
       "      <td>...</td>\n",
       "      <td>...</td>\n",
       "      <td>...</td>\n",
       "      <td>...</td>\n",
       "      <td>...</td>\n",
       "      <td>...</td>\n",
       "      <td>...</td>\n",
       "      <td>...</td>\n",
       "      <td>...</td>\n",
       "      <td>...</td>\n",
       "      <td>...</td>\n",
       "      <td>...</td>\n",
       "    </tr>\n",
       "    <tr>\n",
       "      <th>2070</th>\n",
       "      <td>891327558926688256</td>\n",
       "      <td>https://pbs.twimg.com/media/DF6hr6BUMAAzZgT.jpg</td>\n",
       "      <td>2</td>\n",
       "      <td>basset</td>\n",
       "      <td>0.555712</td>\n",
       "      <td>True</td>\n",
       "      <td>English_springer</td>\n",
       "      <td>0.225770</td>\n",
       "      <td>True</td>\n",
       "      <td>German_short-haired_pointer</td>\n",
       "      <td>0.175219</td>\n",
       "      <td>True</td>\n",
       "    </tr>\n",
       "    <tr>\n",
       "      <th>2071</th>\n",
       "      <td>891689557279858688</td>\n",
       "      <td>https://pbs.twimg.com/media/DF_q7IAWsAEuuN8.jpg</td>\n",
       "      <td>1</td>\n",
       "      <td>paper_towel</td>\n",
       "      <td>0.170278</td>\n",
       "      <td>False</td>\n",
       "      <td>Labrador_retriever</td>\n",
       "      <td>0.168086</td>\n",
       "      <td>True</td>\n",
       "      <td>spatula</td>\n",
       "      <td>0.040836</td>\n",
       "      <td>False</td>\n",
       "    </tr>\n",
       "    <tr>\n",
       "      <th>2072</th>\n",
       "      <td>891815181378084864</td>\n",
       "      <td>https://pbs.twimg.com/media/DGBdLU1WsAANxJ9.jpg</td>\n",
       "      <td>1</td>\n",
       "      <td>Chihuahua</td>\n",
       "      <td>0.716012</td>\n",
       "      <td>True</td>\n",
       "      <td>malamute</td>\n",
       "      <td>0.078253</td>\n",
       "      <td>True</td>\n",
       "      <td>kelpie</td>\n",
       "      <td>0.031379</td>\n",
       "      <td>True</td>\n",
       "    </tr>\n",
       "    <tr>\n",
       "      <th>2073</th>\n",
       "      <td>892177421306343426</td>\n",
       "      <td>https://pbs.twimg.com/media/DGGmoV4XsAAUL6n.jpg</td>\n",
       "      <td>1</td>\n",
       "      <td>Chihuahua</td>\n",
       "      <td>0.323581</td>\n",
       "      <td>True</td>\n",
       "      <td>Pekinese</td>\n",
       "      <td>0.090647</td>\n",
       "      <td>True</td>\n",
       "      <td>papillon</td>\n",
       "      <td>0.068957</td>\n",
       "      <td>True</td>\n",
       "    </tr>\n",
       "    <tr>\n",
       "      <th>2074</th>\n",
       "      <td>892420643555336193</td>\n",
       "      <td>https://pbs.twimg.com/media/DGKD1-bXoAAIAUK.jpg</td>\n",
       "      <td>1</td>\n",
       "      <td>orange</td>\n",
       "      <td>0.097049</td>\n",
       "      <td>False</td>\n",
       "      <td>bagel</td>\n",
       "      <td>0.085851</td>\n",
       "      <td>False</td>\n",
       "      <td>banana</td>\n",
       "      <td>0.076110</td>\n",
       "      <td>False</td>\n",
       "    </tr>\n",
       "  </tbody>\n",
       "</table>\n",
       "<p>2075 rows × 12 columns</p>\n",
       "</div>"
      ],
      "text/plain": [
       "                tweet_id                                          jpg_url  \\\n",
       "0     666020888022790149  https://pbs.twimg.com/media/CT4udn0WwAA0aMy.jpg   \n",
       "1     666029285002620928  https://pbs.twimg.com/media/CT42GRgUYAA5iDo.jpg   \n",
       "2     666033412701032449  https://pbs.twimg.com/media/CT4521TWwAEvMyu.jpg   \n",
       "3     666044226329800704  https://pbs.twimg.com/media/CT5Dr8HUEAA-lEu.jpg   \n",
       "4     666049248165822465  https://pbs.twimg.com/media/CT5IQmsXIAAKY4A.jpg   \n",
       "...                  ...                                              ...   \n",
       "2070  891327558926688256  https://pbs.twimg.com/media/DF6hr6BUMAAzZgT.jpg   \n",
       "2071  891689557279858688  https://pbs.twimg.com/media/DF_q7IAWsAEuuN8.jpg   \n",
       "2072  891815181378084864  https://pbs.twimg.com/media/DGBdLU1WsAANxJ9.jpg   \n",
       "2073  892177421306343426  https://pbs.twimg.com/media/DGGmoV4XsAAUL6n.jpg   \n",
       "2074  892420643555336193  https://pbs.twimg.com/media/DGKD1-bXoAAIAUK.jpg   \n",
       "\n",
       "      img_num                      p1   p1_conf  p1_dog                  p2  \\\n",
       "0           1  Welsh_springer_spaniel  0.465074    True              collie   \n",
       "1           1                 redbone  0.506826    True  miniature_pinscher   \n",
       "2           1         German_shepherd  0.596461    True            malinois   \n",
       "3           1     Rhodesian_ridgeback  0.408143    True             redbone   \n",
       "4           1      miniature_pinscher  0.560311    True          Rottweiler   \n",
       "...       ...                     ...       ...     ...                 ...   \n",
       "2070        2                  basset  0.555712    True    English_springer   \n",
       "2071        1             paper_towel  0.170278   False  Labrador_retriever   \n",
       "2072        1               Chihuahua  0.716012    True            malamute   \n",
       "2073        1               Chihuahua  0.323581    True            Pekinese   \n",
       "2074        1                  orange  0.097049   False               bagel   \n",
       "\n",
       "       p2_conf  p2_dog                           p3   p3_conf  p3_dog  \n",
       "0     0.156665    True            Shetland_sheepdog  0.061428    True  \n",
       "1     0.074192    True          Rhodesian_ridgeback  0.072010    True  \n",
       "2     0.138584    True                   bloodhound  0.116197    True  \n",
       "3     0.360687    True           miniature_pinscher  0.222752    True  \n",
       "4     0.243682    True                     Doberman  0.154629    True  \n",
       "...        ...     ...                          ...       ...     ...  \n",
       "2070  0.225770    True  German_short-haired_pointer  0.175219    True  \n",
       "2071  0.168086    True                      spatula  0.040836   False  \n",
       "2072  0.078253    True                       kelpie  0.031379    True  \n",
       "2073  0.090647    True                     papillon  0.068957    True  \n",
       "2074  0.085851   False                       banana  0.076110   False  \n",
       "\n",
       "[2075 rows x 12 columns]"
      ]
     },
     "execution_count": 21,
     "metadata": {},
     "output_type": "execute_result"
    }
   ],
   "source": [
    "# Load the dataframe\n",
    "image_predictions"
   ]
  },
  {
   "cell_type": "markdown",
   "metadata": {},
   "source": [
    "##### Programmatic Assessment"
   ]
  },
  {
   "cell_type": "code",
   "execution_count": 22,
   "metadata": {},
   "outputs": [
    {
     "name": "stdout",
     "output_type": "stream",
     "text": [
      "<class 'pandas.core.frame.DataFrame'>\n",
      "RangeIndex: 2075 entries, 0 to 2074\n",
      "Data columns (total 12 columns):\n",
      " #   Column    Non-Null Count  Dtype  \n",
      "---  ------    --------------  -----  \n",
      " 0   tweet_id  2075 non-null   int64  \n",
      " 1   jpg_url   2075 non-null   object \n",
      " 2   img_num   2075 non-null   int64  \n",
      " 3   p1        2075 non-null   object \n",
      " 4   p1_conf   2075 non-null   float64\n",
      " 5   p1_dog    2075 non-null   bool   \n",
      " 6   p2        2075 non-null   object \n",
      " 7   p2_conf   2075 non-null   float64\n",
      " 8   p2_dog    2075 non-null   bool   \n",
      " 9   p3        2075 non-null   object \n",
      " 10  p3_conf   2075 non-null   float64\n",
      " 11  p3_dog    2075 non-null   bool   \n",
      "dtypes: bool(3), float64(3), int64(2), object(4)\n",
      "memory usage: 152.1+ KB\n"
     ]
    }
   ],
   "source": [
    "# View concise summary of the data\n",
    "image_predictions.info()"
   ]
  },
  {
   "cell_type": "code",
   "execution_count": 23,
   "metadata": {},
   "outputs": [
    {
     "data": {
      "text/plain": [
       "0"
      ]
     },
     "execution_count": 23,
     "metadata": {},
     "output_type": "execute_result"
    }
   ],
   "source": [
    "# Check for duplicates\n",
    "image_predictions.duplicated().sum()"
   ]
  },
  {
   "cell_type": "code",
   "execution_count": 24,
   "metadata": {},
   "outputs": [
    {
     "data": {
      "text/html": [
       "<div>\n",
       "<style scoped>\n",
       "    .dataframe tbody tr th:only-of-type {\n",
       "        vertical-align: middle;\n",
       "    }\n",
       "\n",
       "    .dataframe tbody tr th {\n",
       "        vertical-align: top;\n",
       "    }\n",
       "\n",
       "    .dataframe thead th {\n",
       "        text-align: right;\n",
       "    }\n",
       "</style>\n",
       "<table border=\"1\" class=\"dataframe\">\n",
       "  <thead>\n",
       "    <tr style=\"text-align: right;\">\n",
       "      <th></th>\n",
       "      <th>tweet_id</th>\n",
       "      <th>jpg_url</th>\n",
       "      <th>img_num</th>\n",
       "      <th>p1</th>\n",
       "      <th>p1_conf</th>\n",
       "      <th>p1_dog</th>\n",
       "      <th>p2</th>\n",
       "      <th>p2_conf</th>\n",
       "      <th>p2_dog</th>\n",
       "      <th>p3</th>\n",
       "      <th>p3_conf</th>\n",
       "      <th>p3_dog</th>\n",
       "    </tr>\n",
       "  </thead>\n",
       "  <tbody>\n",
       "    <tr>\n",
       "      <th>2070</th>\n",
       "      <td>891327558926688256</td>\n",
       "      <td>https://pbs.twimg.com/media/DF6hr6BUMAAzZgT.jpg</td>\n",
       "      <td>2</td>\n",
       "      <td>basset</td>\n",
       "      <td>0.555712</td>\n",
       "      <td>True</td>\n",
       "      <td>English_springer</td>\n",
       "      <td>0.225770</td>\n",
       "      <td>True</td>\n",
       "      <td>German_short-haired_pointer</td>\n",
       "      <td>0.175219</td>\n",
       "      <td>True</td>\n",
       "    </tr>\n",
       "    <tr>\n",
       "      <th>2071</th>\n",
       "      <td>891689557279858688</td>\n",
       "      <td>https://pbs.twimg.com/media/DF_q7IAWsAEuuN8.jpg</td>\n",
       "      <td>1</td>\n",
       "      <td>paper_towel</td>\n",
       "      <td>0.170278</td>\n",
       "      <td>False</td>\n",
       "      <td>Labrador_retriever</td>\n",
       "      <td>0.168086</td>\n",
       "      <td>True</td>\n",
       "      <td>spatula</td>\n",
       "      <td>0.040836</td>\n",
       "      <td>False</td>\n",
       "    </tr>\n",
       "    <tr>\n",
       "      <th>2072</th>\n",
       "      <td>891815181378084864</td>\n",
       "      <td>https://pbs.twimg.com/media/DGBdLU1WsAANxJ9.jpg</td>\n",
       "      <td>1</td>\n",
       "      <td>Chihuahua</td>\n",
       "      <td>0.716012</td>\n",
       "      <td>True</td>\n",
       "      <td>malamute</td>\n",
       "      <td>0.078253</td>\n",
       "      <td>True</td>\n",
       "      <td>kelpie</td>\n",
       "      <td>0.031379</td>\n",
       "      <td>True</td>\n",
       "    </tr>\n",
       "    <tr>\n",
       "      <th>2073</th>\n",
       "      <td>892177421306343426</td>\n",
       "      <td>https://pbs.twimg.com/media/DGGmoV4XsAAUL6n.jpg</td>\n",
       "      <td>1</td>\n",
       "      <td>Chihuahua</td>\n",
       "      <td>0.323581</td>\n",
       "      <td>True</td>\n",
       "      <td>Pekinese</td>\n",
       "      <td>0.090647</td>\n",
       "      <td>True</td>\n",
       "      <td>papillon</td>\n",
       "      <td>0.068957</td>\n",
       "      <td>True</td>\n",
       "    </tr>\n",
       "    <tr>\n",
       "      <th>2074</th>\n",
       "      <td>892420643555336193</td>\n",
       "      <td>https://pbs.twimg.com/media/DGKD1-bXoAAIAUK.jpg</td>\n",
       "      <td>1</td>\n",
       "      <td>orange</td>\n",
       "      <td>0.097049</td>\n",
       "      <td>False</td>\n",
       "      <td>bagel</td>\n",
       "      <td>0.085851</td>\n",
       "      <td>False</td>\n",
       "      <td>banana</td>\n",
       "      <td>0.076110</td>\n",
       "      <td>False</td>\n",
       "    </tr>\n",
       "  </tbody>\n",
       "</table>\n",
       "</div>"
      ],
      "text/plain": [
       "                tweet_id                                          jpg_url  \\\n",
       "2070  891327558926688256  https://pbs.twimg.com/media/DF6hr6BUMAAzZgT.jpg   \n",
       "2071  891689557279858688  https://pbs.twimg.com/media/DF_q7IAWsAEuuN8.jpg   \n",
       "2072  891815181378084864  https://pbs.twimg.com/media/DGBdLU1WsAANxJ9.jpg   \n",
       "2073  892177421306343426  https://pbs.twimg.com/media/DGGmoV4XsAAUL6n.jpg   \n",
       "2074  892420643555336193  https://pbs.twimg.com/media/DGKD1-bXoAAIAUK.jpg   \n",
       "\n",
       "      img_num           p1   p1_conf  p1_dog                  p2   p2_conf  \\\n",
       "2070        2       basset  0.555712    True    English_springer  0.225770   \n",
       "2071        1  paper_towel  0.170278   False  Labrador_retriever  0.168086   \n",
       "2072        1    Chihuahua  0.716012    True            malamute  0.078253   \n",
       "2073        1    Chihuahua  0.323581    True            Pekinese  0.090647   \n",
       "2074        1       orange  0.097049   False               bagel  0.085851   \n",
       "\n",
       "      p2_dog                           p3   p3_conf  p3_dog  \n",
       "2070    True  German_short-haired_pointer  0.175219    True  \n",
       "2071    True                      spatula  0.040836   False  \n",
       "2072    True                       kelpie  0.031379    True  \n",
       "2073    True                     papillon  0.068957    True  \n",
       "2074   False                       banana  0.076110   False  "
      ]
     },
     "execution_count": 24,
     "metadata": {},
     "output_type": "execute_result"
    }
   ],
   "source": [
    "# Check the amount of tweets with 1, 2, 3 and 4 images\n",
    "image_predictions.tail(5)"
   ]
  },
  {
   "cell_type": "code",
   "execution_count": 25,
   "metadata": {
    "scrolled": false
   },
   "outputs": [
    {
     "data": {
      "text/plain": [
       "golden_retriever      150\n",
       "Labrador_retriever    100\n",
       "Pembroke               89\n",
       "Chihuahua              83\n",
       "pug                    57\n",
       "                     ... \n",
       "pillow                  1\n",
       "carousel                1\n",
       "bald_eagle              1\n",
       "lorikeet                1\n",
       "orange                  1\n",
       "Name: p1, Length: 378, dtype: int64"
      ]
     },
     "execution_count": 25,
     "metadata": {},
     "output_type": "execute_result"
    }
   ],
   "source": [
    "# Check values in column\n",
    "image_predictions.p1.value_counts()"
   ]
  },
  {
   "cell_type": "code",
   "execution_count": 26,
   "metadata": {},
   "outputs": [
    {
     "data": {
      "text/plain": [
       "Labrador_retriever    104\n",
       "golden_retriever       92\n",
       "Cardigan               73\n",
       "Chihuahua              44\n",
       "Pomeranian             42\n",
       "                     ... \n",
       "medicine_chest          1\n",
       "quail                   1\n",
       "horse_cart              1\n",
       "waffle_iron             1\n",
       "bagel                   1\n",
       "Name: p2, Length: 405, dtype: int64"
      ]
     },
     "execution_count": 26,
     "metadata": {},
     "output_type": "execute_result"
    }
   ],
   "source": [
    "# Check values in column\n",
    "image_predictions.p2.value_counts()"
   ]
  },
  {
   "cell_type": "code",
   "execution_count": 27,
   "metadata": {},
   "outputs": [
    {
     "data": {
      "text/plain": [
       "Labrador_retriever    79\n",
       "Chihuahua             58\n",
       "golden_retriever      48\n",
       "Eskimo_dog            38\n",
       "kelpie                35\n",
       "                      ..\n",
       "ox                     1\n",
       "assault_rifle          1\n",
       "axolotl                1\n",
       "pot                    1\n",
       "banana                 1\n",
       "Name: p3, Length: 408, dtype: int64"
      ]
     },
     "execution_count": 27,
     "metadata": {},
     "output_type": "execute_result"
    }
   ],
   "source": [
    "# Check values in column\n",
    "image_predictions.p3.value_counts()"
   ]
  },
  {
   "cell_type": "code",
   "execution_count": 28,
   "metadata": {},
   "outputs": [
    {
     "data": {
      "text/html": [
       "<div>\n",
       "<style scoped>\n",
       "    .dataframe tbody tr th:only-of-type {\n",
       "        vertical-align: middle;\n",
       "    }\n",
       "\n",
       "    .dataframe tbody tr th {\n",
       "        vertical-align: top;\n",
       "    }\n",
       "\n",
       "    .dataframe thead th {\n",
       "        text-align: right;\n",
       "    }\n",
       "</style>\n",
       "<table border=\"1\" class=\"dataframe\">\n",
       "  <thead>\n",
       "    <tr style=\"text-align: right;\">\n",
       "      <th></th>\n",
       "      <th>tweet_id</th>\n",
       "      <th>img_num</th>\n",
       "      <th>p1_conf</th>\n",
       "      <th>p2_conf</th>\n",
       "      <th>p3_conf</th>\n",
       "    </tr>\n",
       "  </thead>\n",
       "  <tbody>\n",
       "    <tr>\n",
       "      <th>count</th>\n",
       "      <td>2.075000e+03</td>\n",
       "      <td>2075.000000</td>\n",
       "      <td>2075.000000</td>\n",
       "      <td>2.075000e+03</td>\n",
       "      <td>2.075000e+03</td>\n",
       "    </tr>\n",
       "    <tr>\n",
       "      <th>mean</th>\n",
       "      <td>7.384514e+17</td>\n",
       "      <td>1.203855</td>\n",
       "      <td>0.594548</td>\n",
       "      <td>1.345886e-01</td>\n",
       "      <td>6.032417e-02</td>\n",
       "    </tr>\n",
       "    <tr>\n",
       "      <th>std</th>\n",
       "      <td>6.785203e+16</td>\n",
       "      <td>0.561875</td>\n",
       "      <td>0.271174</td>\n",
       "      <td>1.006657e-01</td>\n",
       "      <td>5.090593e-02</td>\n",
       "    </tr>\n",
       "    <tr>\n",
       "      <th>min</th>\n",
       "      <td>6.660209e+17</td>\n",
       "      <td>1.000000</td>\n",
       "      <td>0.044333</td>\n",
       "      <td>1.011300e-08</td>\n",
       "      <td>1.740170e-10</td>\n",
       "    </tr>\n",
       "    <tr>\n",
       "      <th>25%</th>\n",
       "      <td>6.764835e+17</td>\n",
       "      <td>1.000000</td>\n",
       "      <td>0.364412</td>\n",
       "      <td>5.388625e-02</td>\n",
       "      <td>1.622240e-02</td>\n",
       "    </tr>\n",
       "    <tr>\n",
       "      <th>50%</th>\n",
       "      <td>7.119988e+17</td>\n",
       "      <td>1.000000</td>\n",
       "      <td>0.588230</td>\n",
       "      <td>1.181810e-01</td>\n",
       "      <td>4.944380e-02</td>\n",
       "    </tr>\n",
       "    <tr>\n",
       "      <th>75%</th>\n",
       "      <td>7.932034e+17</td>\n",
       "      <td>1.000000</td>\n",
       "      <td>0.843855</td>\n",
       "      <td>1.955655e-01</td>\n",
       "      <td>9.180755e-02</td>\n",
       "    </tr>\n",
       "    <tr>\n",
       "      <th>max</th>\n",
       "      <td>8.924206e+17</td>\n",
       "      <td>4.000000</td>\n",
       "      <td>1.000000</td>\n",
       "      <td>4.880140e-01</td>\n",
       "      <td>2.734190e-01</td>\n",
       "    </tr>\n",
       "  </tbody>\n",
       "</table>\n",
       "</div>"
      ],
      "text/plain": [
       "           tweet_id      img_num      p1_conf       p2_conf       p3_conf\n",
       "count  2.075000e+03  2075.000000  2075.000000  2.075000e+03  2.075000e+03\n",
       "mean   7.384514e+17     1.203855     0.594548  1.345886e-01  6.032417e-02\n",
       "std    6.785203e+16     0.561875     0.271174  1.006657e-01  5.090593e-02\n",
       "min    6.660209e+17     1.000000     0.044333  1.011300e-08  1.740170e-10\n",
       "25%    6.764835e+17     1.000000     0.364412  5.388625e-02  1.622240e-02\n",
       "50%    7.119988e+17     1.000000     0.588230  1.181810e-01  4.944380e-02\n",
       "75%    7.932034e+17     1.000000     0.843855  1.955655e-01  9.180755e-02\n",
       "max    8.924206e+17     4.000000     1.000000  4.880140e-01  2.734190e-01"
      ]
     },
     "execution_count": 28,
     "metadata": {},
     "output_type": "execute_result"
    }
   ],
   "source": [
    "# View summary statistics\n",
    "image_predictions.describe()"
   ]
  },
  {
   "cell_type": "markdown",
   "metadata": {},
   "source": [
    "### DataFrame 3: `additional_data`"
   ]
  },
  {
   "cell_type": "markdown",
   "metadata": {},
   "source": [
    "##### Visual Assessment"
   ]
  },
  {
   "cell_type": "code",
   "execution_count": 29,
   "metadata": {},
   "outputs": [
    {
     "data": {
      "text/html": [
       "<div>\n",
       "<style scoped>\n",
       "    .dataframe tbody tr th:only-of-type {\n",
       "        vertical-align: middle;\n",
       "    }\n",
       "\n",
       "    .dataframe tbody tr th {\n",
       "        vertical-align: top;\n",
       "    }\n",
       "\n",
       "    .dataframe thead th {\n",
       "        text-align: right;\n",
       "    }\n",
       "</style>\n",
       "<table border=\"1\" class=\"dataframe\">\n",
       "  <thead>\n",
       "    <tr style=\"text-align: right;\">\n",
       "      <th></th>\n",
       "      <th>tweet_id</th>\n",
       "      <th>retweet_count</th>\n",
       "      <th>favorite_count</th>\n",
       "    </tr>\n",
       "  </thead>\n",
       "  <tbody>\n",
       "    <tr>\n",
       "      <th>0</th>\n",
       "      <td>892420643555336193</td>\n",
       "      <td>6963</td>\n",
       "      <td>33650</td>\n",
       "    </tr>\n",
       "    <tr>\n",
       "      <th>1</th>\n",
       "      <td>892177421306343426</td>\n",
       "      <td>5268</td>\n",
       "      <td>29197</td>\n",
       "    </tr>\n",
       "    <tr>\n",
       "      <th>2</th>\n",
       "      <td>891815181378084864</td>\n",
       "      <td>3463</td>\n",
       "      <td>21951</td>\n",
       "    </tr>\n",
       "    <tr>\n",
       "      <th>3</th>\n",
       "      <td>891689557279858688</td>\n",
       "      <td>7190</td>\n",
       "      <td>36765</td>\n",
       "    </tr>\n",
       "    <tr>\n",
       "      <th>4</th>\n",
       "      <td>891327558926688256</td>\n",
       "      <td>7709</td>\n",
       "      <td>35160</td>\n",
       "    </tr>\n",
       "    <tr>\n",
       "      <th>...</th>\n",
       "      <td>...</td>\n",
       "      <td>...</td>\n",
       "      <td>...</td>\n",
       "    </tr>\n",
       "    <tr>\n",
       "      <th>2322</th>\n",
       "      <td>666049248165822465</td>\n",
       "      <td>36</td>\n",
       "      <td>88</td>\n",
       "    </tr>\n",
       "    <tr>\n",
       "      <th>2323</th>\n",
       "      <td>666044226329800704</td>\n",
       "      <td>114</td>\n",
       "      <td>245</td>\n",
       "    </tr>\n",
       "    <tr>\n",
       "      <th>2324</th>\n",
       "      <td>666033412701032449</td>\n",
       "      <td>36</td>\n",
       "      <td>100</td>\n",
       "    </tr>\n",
       "    <tr>\n",
       "      <th>2325</th>\n",
       "      <td>666029285002620928</td>\n",
       "      <td>39</td>\n",
       "      <td>112</td>\n",
       "    </tr>\n",
       "    <tr>\n",
       "      <th>2326</th>\n",
       "      <td>666020888022790149</td>\n",
       "      <td>419</td>\n",
       "      <td>2281</td>\n",
       "    </tr>\n",
       "  </tbody>\n",
       "</table>\n",
       "<p>2327 rows × 3 columns</p>\n",
       "</div>"
      ],
      "text/plain": [
       "                tweet_id  retweet_count  favorite_count\n",
       "0     892420643555336193           6963           33650\n",
       "1     892177421306343426           5268           29197\n",
       "2     891815181378084864           3463           21951\n",
       "3     891689557279858688           7190           36765\n",
       "4     891327558926688256           7709           35160\n",
       "...                  ...            ...             ...\n",
       "2322  666049248165822465             36              88\n",
       "2323  666044226329800704            114             245\n",
       "2324  666033412701032449             36             100\n",
       "2325  666029285002620928             39             112\n",
       "2326  666020888022790149            419            2281\n",
       "\n",
       "[2327 rows x 3 columns]"
      ]
     },
     "execution_count": 29,
     "metadata": {},
     "output_type": "execute_result"
    }
   ],
   "source": [
    "# Load the dataframe\n",
    "additional_data"
   ]
  },
  {
   "cell_type": "markdown",
   "metadata": {},
   "source": [
    "##### Programmatic Assessment"
   ]
  },
  {
   "cell_type": "code",
   "execution_count": 30,
   "metadata": {},
   "outputs": [
    {
     "name": "stdout",
     "output_type": "stream",
     "text": [
      "<class 'pandas.core.frame.DataFrame'>\n",
      "RangeIndex: 2327 entries, 0 to 2326\n",
      "Data columns (total 3 columns):\n",
      " #   Column          Non-Null Count  Dtype \n",
      "---  ------          --------------  ----- \n",
      " 0   tweet_id        2327 non-null   object\n",
      " 1   retweet_count   2327 non-null   int64 \n",
      " 2   favorite_count  2327 non-null   int64 \n",
      "dtypes: int64(2), object(1)\n",
      "memory usage: 54.7+ KB\n"
     ]
    }
   ],
   "source": [
    "# View concise summary of the data\n",
    "additional_data.info()"
   ]
  },
  {
   "cell_type": "code",
   "execution_count": 31,
   "metadata": {},
   "outputs": [
    {
     "data": {
      "text/plain": [
       "tweet_id          0\n",
       "retweet_count     0\n",
       "favorite_count    0\n",
       "dtype: int64"
      ]
     },
     "execution_count": 31,
     "metadata": {},
     "output_type": "execute_result"
    }
   ],
   "source": [
    "# Check for missing values\n",
    "additional_data.isna().sum()"
   ]
  },
  {
   "cell_type": "code",
   "execution_count": 32,
   "metadata": {},
   "outputs": [
    {
     "data": {
      "text/plain": [
       "0"
      ]
     },
     "execution_count": 32,
     "metadata": {},
     "output_type": "execute_result"
    }
   ],
   "source": [
    "# Check for duplicates\n",
    "additional_data.duplicated().sum()"
   ]
  },
  {
   "cell_type": "code",
   "execution_count": 33,
   "metadata": {},
   "outputs": [
    {
     "data": {
      "text/html": [
       "<div>\n",
       "<style scoped>\n",
       "    .dataframe tbody tr th:only-of-type {\n",
       "        vertical-align: middle;\n",
       "    }\n",
       "\n",
       "    .dataframe tbody tr th {\n",
       "        vertical-align: top;\n",
       "    }\n",
       "\n",
       "    .dataframe thead th {\n",
       "        text-align: right;\n",
       "    }\n",
       "</style>\n",
       "<table border=\"1\" class=\"dataframe\">\n",
       "  <thead>\n",
       "    <tr style=\"text-align: right;\">\n",
       "      <th></th>\n",
       "      <th>retweet_count</th>\n",
       "      <th>favorite_count</th>\n",
       "    </tr>\n",
       "  </thead>\n",
       "  <tbody>\n",
       "    <tr>\n",
       "      <th>count</th>\n",
       "      <td>2327.000000</td>\n",
       "      <td>2327.000000</td>\n",
       "    </tr>\n",
       "    <tr>\n",
       "      <th>mean</th>\n",
       "      <td>2456.902020</td>\n",
       "      <td>7019.488612</td>\n",
       "    </tr>\n",
       "    <tr>\n",
       "      <th>std</th>\n",
       "      <td>4160.261394</td>\n",
       "      <td>10907.444775</td>\n",
       "    </tr>\n",
       "    <tr>\n",
       "      <th>min</th>\n",
       "      <td>1.000000</td>\n",
       "      <td>0.000000</td>\n",
       "    </tr>\n",
       "    <tr>\n",
       "      <th>25%</th>\n",
       "      <td>492.500000</td>\n",
       "      <td>1219.000000</td>\n",
       "    </tr>\n",
       "    <tr>\n",
       "      <th>50%</th>\n",
       "      <td>1143.000000</td>\n",
       "      <td>3033.000000</td>\n",
       "    </tr>\n",
       "    <tr>\n",
       "      <th>75%</th>\n",
       "      <td>2844.000000</td>\n",
       "      <td>8554.000000</td>\n",
       "    </tr>\n",
       "    <tr>\n",
       "      <th>max</th>\n",
       "      <td>70258.000000</td>\n",
       "      <td>144035.000000</td>\n",
       "    </tr>\n",
       "  </tbody>\n",
       "</table>\n",
       "</div>"
      ],
      "text/plain": [
       "       retweet_count  favorite_count\n",
       "count    2327.000000     2327.000000\n",
       "mean     2456.902020     7019.488612\n",
       "std      4160.261394    10907.444775\n",
       "min         1.000000        0.000000\n",
       "25%       492.500000     1219.000000\n",
       "50%      1143.000000     3033.000000\n",
       "75%      2844.000000     8554.000000\n",
       "max     70258.000000   144035.000000"
      ]
     },
     "execution_count": 33,
     "metadata": {},
     "output_type": "execute_result"
    }
   ],
   "source": [
    "# View summary statistics\n",
    "additional_data.describe()"
   ]
  },
  {
   "cell_type": "markdown",
   "metadata": {},
   "source": [
    "### Quality issues\n",
    "Some quality issues identified are:\n",
    "\n",
    "1. There are missing values in the in_reply_to_status_id, in_reply_to_user_id, retweeted_status_id, retweeted_status_user_id and retweeted_status_timestamp columns in the `twitter_archive` data. \n",
    "\n",
    "2. Timestamp columns in `twitter_archive` is in string instead of datetime datatype. We need the year and the month for each tweet.\n",
    "\n",
    "3. Tweet_id columns in `twitter_archive` and `image_predictions` is in integer format instead of string.\n",
    "\n",
    "4. Name column header is non-descriptive.\n",
    "\n",
    "5. Some dog names are invalid.\n",
    "\n",
    "6. Some tweets are retweets. We need the original tweets and not retweets.  \n",
    "\n",
    "7. Some tweets are not about dogs.\n",
    "\n",
    "8. Inaccurate ratings for some tweets. The rating denominator of the tweets should be fixed at 10.\n",
    "\n",
    "9. Incorrect datatypes and missing values as a result of merging."
   ]
  },
  {
   "cell_type": "markdown",
   "metadata": {
    "extensions": {
     "jupyter_dashboards": {
      "version": 1,
      "views": {
       "grid_default": {
        "col": 0,
        "height": 7,
        "hidden": false,
        "row": 40,
        "width": 12
       },
       "report_default": {
        "hidden": false
       }
      }
     }
    }
   },
   "source": [
    "### Tidiness issues\n",
    "Some tidiness issues identified are:\n",
    "\n",
    "1. The variables; doggo, floofer, pupper and puppo, in the `twitter_archve` dataframe should be in one column.\n",
    "\n",
    "2. The `additional_data` and `image_predictions` tables should be part of the twitter_archive table."
   ]
  },
  {
   "cell_type": "markdown",
   "metadata": {
    "extensions": {
     "jupyter_dashboards": {
      "version": 1,
      "views": {
       "grid_default": {
        "col": 4,
        "height": 4,
        "hidden": false,
        "row": 32,
        "width": 4
       },
       "report_default": {
        "hidden": false
       }
      }
     }
    }
   },
   "source": [
    "## Cleaning Data\n",
    "This sections cleans the issues detected in the assessing data section."
   ]
  },
  {
   "cell_type": "code",
   "execution_count": 34,
   "metadata": {},
   "outputs": [],
   "source": [
    "# Make copies of original pieces of data\n",
    "clean_twtarchive = twitter_archive.copy()\n",
    "clean_img_predict = image_predictions.copy()\n",
    "clean_add_data = additional_data.copy()"
   ]
  },
  {
   "cell_type": "markdown",
   "metadata": {},
   "source": [
    "### Quality Issue #1: Missing values in the **twitter_archive** data."
   ]
  },
  {
   "cell_type": "markdown",
   "metadata": {},
   "source": [
    "#### Define\n",
    "*Fill missing values in `twitter_archive` table with None*."
   ]
  },
  {
   "cell_type": "markdown",
   "metadata": {},
   "source": [
    "#### Code"
   ]
  },
  {
   "cell_type": "code",
   "execution_count": 35,
   "metadata": {},
   "outputs": [],
   "source": [
    "clean_twtarchive = clean_twtarchive.fillna('None')"
   ]
  },
  {
   "cell_type": "markdown",
   "metadata": {},
   "source": [
    "#### Test"
   ]
  },
  {
   "cell_type": "code",
   "execution_count": 36,
   "metadata": {},
   "outputs": [
    {
     "data": {
      "text/plain": [
       "tweet_id                      0\n",
       "in_reply_to_status_id         0\n",
       "in_reply_to_user_id           0\n",
       "timestamp                     0\n",
       "source                        0\n",
       "text                          0\n",
       "retweeted_status_id           0\n",
       "retweeted_status_user_id      0\n",
       "retweeted_status_timestamp    0\n",
       "expanded_urls                 0\n",
       "rating_numerator              0\n",
       "rating_denominator            0\n",
       "name                          0\n",
       "doggo                         0\n",
       "floofer                       0\n",
       "pupper                        0\n",
       "puppo                         0\n",
       "dtype: int64"
      ]
     },
     "execution_count": 36,
     "metadata": {},
     "output_type": "execute_result"
    }
   ],
   "source": [
    "# Check for number of missing values.\n",
    "clean_twtarchive.isna().sum()"
   ]
  },
  {
   "cell_type": "code",
   "execution_count": 37,
   "metadata": {
    "scrolled": true
   },
   "outputs": [
    {
     "data": {
      "text/html": [
       "<div>\n",
       "<style scoped>\n",
       "    .dataframe tbody tr th:only-of-type {\n",
       "        vertical-align: middle;\n",
       "    }\n",
       "\n",
       "    .dataframe tbody tr th {\n",
       "        vertical-align: top;\n",
       "    }\n",
       "\n",
       "    .dataframe thead th {\n",
       "        text-align: right;\n",
       "    }\n",
       "</style>\n",
       "<table border=\"1\" class=\"dataframe\">\n",
       "  <thead>\n",
       "    <tr style=\"text-align: right;\">\n",
       "      <th></th>\n",
       "      <th>tweet_id</th>\n",
       "      <th>in_reply_to_status_id</th>\n",
       "      <th>in_reply_to_user_id</th>\n",
       "      <th>timestamp</th>\n",
       "      <th>source</th>\n",
       "      <th>text</th>\n",
       "      <th>retweeted_status_id</th>\n",
       "      <th>retweeted_status_user_id</th>\n",
       "      <th>retweeted_status_timestamp</th>\n",
       "      <th>expanded_urls</th>\n",
       "      <th>rating_numerator</th>\n",
       "      <th>rating_denominator</th>\n",
       "      <th>name</th>\n",
       "      <th>doggo</th>\n",
       "      <th>floofer</th>\n",
       "      <th>pupper</th>\n",
       "      <th>puppo</th>\n",
       "    </tr>\n",
       "  </thead>\n",
       "  <tbody>\n",
       "    <tr>\n",
       "      <th>0</th>\n",
       "      <td>892420643555336193</td>\n",
       "      <td>None</td>\n",
       "      <td>None</td>\n",
       "      <td>2017-08-01 16:23:56 +0000</td>\n",
       "      <td>&lt;a href=\"http://twitter.com/download/iphone\" r...</td>\n",
       "      <td>This is Phineas. He's a mystical boy. Only eve...</td>\n",
       "      <td>None</td>\n",
       "      <td>None</td>\n",
       "      <td>None</td>\n",
       "      <td>https://twitter.com/dog_rates/status/892420643...</td>\n",
       "      <td>13</td>\n",
       "      <td>10</td>\n",
       "      <td>Phineas</td>\n",
       "      <td>None</td>\n",
       "      <td>None</td>\n",
       "      <td>None</td>\n",
       "      <td>None</td>\n",
       "    </tr>\n",
       "    <tr>\n",
       "      <th>1</th>\n",
       "      <td>892177421306343426</td>\n",
       "      <td>None</td>\n",
       "      <td>None</td>\n",
       "      <td>2017-08-01 00:17:27 +0000</td>\n",
       "      <td>&lt;a href=\"http://twitter.com/download/iphone\" r...</td>\n",
       "      <td>This is Tilly. She's just checking pup on you....</td>\n",
       "      <td>None</td>\n",
       "      <td>None</td>\n",
       "      <td>None</td>\n",
       "      <td>https://twitter.com/dog_rates/status/892177421...</td>\n",
       "      <td>13</td>\n",
       "      <td>10</td>\n",
       "      <td>Tilly</td>\n",
       "      <td>None</td>\n",
       "      <td>None</td>\n",
       "      <td>None</td>\n",
       "      <td>None</td>\n",
       "    </tr>\n",
       "    <tr>\n",
       "      <th>2</th>\n",
       "      <td>891815181378084864</td>\n",
       "      <td>None</td>\n",
       "      <td>None</td>\n",
       "      <td>2017-07-31 00:18:03 +0000</td>\n",
       "      <td>&lt;a href=\"http://twitter.com/download/iphone\" r...</td>\n",
       "      <td>This is Archie. He is a rare Norwegian Pouncin...</td>\n",
       "      <td>None</td>\n",
       "      <td>None</td>\n",
       "      <td>None</td>\n",
       "      <td>https://twitter.com/dog_rates/status/891815181...</td>\n",
       "      <td>12</td>\n",
       "      <td>10</td>\n",
       "      <td>Archie</td>\n",
       "      <td>None</td>\n",
       "      <td>None</td>\n",
       "      <td>None</td>\n",
       "      <td>None</td>\n",
       "    </tr>\n",
       "    <tr>\n",
       "      <th>3</th>\n",
       "      <td>891689557279858688</td>\n",
       "      <td>None</td>\n",
       "      <td>None</td>\n",
       "      <td>2017-07-30 15:58:51 +0000</td>\n",
       "      <td>&lt;a href=\"http://twitter.com/download/iphone\" r...</td>\n",
       "      <td>This is Darla. She commenced a snooze mid meal...</td>\n",
       "      <td>None</td>\n",
       "      <td>None</td>\n",
       "      <td>None</td>\n",
       "      <td>https://twitter.com/dog_rates/status/891689557...</td>\n",
       "      <td>13</td>\n",
       "      <td>10</td>\n",
       "      <td>Darla</td>\n",
       "      <td>None</td>\n",
       "      <td>None</td>\n",
       "      <td>None</td>\n",
       "      <td>None</td>\n",
       "    </tr>\n",
       "    <tr>\n",
       "      <th>4</th>\n",
       "      <td>891327558926688256</td>\n",
       "      <td>None</td>\n",
       "      <td>None</td>\n",
       "      <td>2017-07-29 16:00:24 +0000</td>\n",
       "      <td>&lt;a href=\"http://twitter.com/download/iphone\" r...</td>\n",
       "      <td>This is Franklin. He would like you to stop ca...</td>\n",
       "      <td>None</td>\n",
       "      <td>None</td>\n",
       "      <td>None</td>\n",
       "      <td>https://twitter.com/dog_rates/status/891327558...</td>\n",
       "      <td>12</td>\n",
       "      <td>10</td>\n",
       "      <td>Franklin</td>\n",
       "      <td>None</td>\n",
       "      <td>None</td>\n",
       "      <td>None</td>\n",
       "      <td>None</td>\n",
       "    </tr>\n",
       "  </tbody>\n",
       "</table>\n",
       "</div>"
      ],
      "text/plain": [
       "             tweet_id in_reply_to_status_id in_reply_to_user_id  \\\n",
       "0  892420643555336193                  None                None   \n",
       "1  892177421306343426                  None                None   \n",
       "2  891815181378084864                  None                None   \n",
       "3  891689557279858688                  None                None   \n",
       "4  891327558926688256                  None                None   \n",
       "\n",
       "                   timestamp  \\\n",
       "0  2017-08-01 16:23:56 +0000   \n",
       "1  2017-08-01 00:17:27 +0000   \n",
       "2  2017-07-31 00:18:03 +0000   \n",
       "3  2017-07-30 15:58:51 +0000   \n",
       "4  2017-07-29 16:00:24 +0000   \n",
       "\n",
       "                                              source  \\\n",
       "0  <a href=\"http://twitter.com/download/iphone\" r...   \n",
       "1  <a href=\"http://twitter.com/download/iphone\" r...   \n",
       "2  <a href=\"http://twitter.com/download/iphone\" r...   \n",
       "3  <a href=\"http://twitter.com/download/iphone\" r...   \n",
       "4  <a href=\"http://twitter.com/download/iphone\" r...   \n",
       "\n",
       "                                                text retweeted_status_id  \\\n",
       "0  This is Phineas. He's a mystical boy. Only eve...                None   \n",
       "1  This is Tilly. She's just checking pup on you....                None   \n",
       "2  This is Archie. He is a rare Norwegian Pouncin...                None   \n",
       "3  This is Darla. She commenced a snooze mid meal...                None   \n",
       "4  This is Franklin. He would like you to stop ca...                None   \n",
       "\n",
       "  retweeted_status_user_id retweeted_status_timestamp  \\\n",
       "0                     None                       None   \n",
       "1                     None                       None   \n",
       "2                     None                       None   \n",
       "3                     None                       None   \n",
       "4                     None                       None   \n",
       "\n",
       "                                       expanded_urls  rating_numerator  \\\n",
       "0  https://twitter.com/dog_rates/status/892420643...                13   \n",
       "1  https://twitter.com/dog_rates/status/892177421...                13   \n",
       "2  https://twitter.com/dog_rates/status/891815181...                12   \n",
       "3  https://twitter.com/dog_rates/status/891689557...                13   \n",
       "4  https://twitter.com/dog_rates/status/891327558...                12   \n",
       "\n",
       "   rating_denominator      name doggo floofer pupper puppo  \n",
       "0                  10   Phineas  None    None   None  None  \n",
       "1                  10     Tilly  None    None   None  None  \n",
       "2                  10    Archie  None    None   None  None  \n",
       "3                  10     Darla  None    None   None  None  \n",
       "4                  10  Franklin  None    None   None  None  "
      ]
     },
     "execution_count": 37,
     "metadata": {},
     "output_type": "execute_result"
    }
   ],
   "source": [
    "# Check first five rows of the data.\n",
    "clean_twtarchive.head(5)"
   ]
  },
  {
   "cell_type": "markdown",
   "metadata": {},
   "source": [
    "### Tidiness Issue #1: The variables; doggo, floofer, pupper and puppo,  should be in one column."
   ]
  },
  {
   "cell_type": "markdown",
   "metadata": {
    "collapsed": true,
    "extensions": {
     "jupyter_dashboards": {
      "version": 1,
      "views": {
       "grid_default": {
        "hidden": true
       },
       "report_default": {
        "hidden": true
       }
      }
     }
    }
   },
   "source": [
    "#### Define\n",
    "*Create a copy of the cleaned `twitter_archive` data. Melt the doggo, floofer, pupper and puppo columns into one column called 'class' and the values in another column called 'dog_class'. Select rows where the dog_class column is not with the value 'None' and name the new data table 'classified_dogs'. Merge the classified_dogs data to the copy of the cleaned twitter_archive data. Drop the doggo, floofer, pupper, puppo and class columns. Fill missing values with 'others' and drop duplicate tweet ids.*"
   ]
  },
  {
   "cell_type": "markdown",
   "metadata": {},
   "source": [
    "#### Code"
   ]
  },
  {
   "cell_type": "code",
   "execution_count": 38,
   "metadata": {
    "scrolled": true
   },
   "outputs": [],
   "source": [
    "clean_twtarchive1 = clean_twtarchive.copy()"
   ]
  },
  {
   "cell_type": "code",
   "execution_count": 39,
   "metadata": {},
   "outputs": [],
   "source": [
    "keep = np.array(clean_twtarchive.columns)[:-4]\n",
    "clean_twtarchive = pd.melt(clean_twtarchive, id_vars= keep, value_vars=['doggo','floofer','pupper','puppo'], var_name='class',value_name='dog_class')"
   ]
  },
  {
   "cell_type": "code",
   "execution_count": 40,
   "metadata": {},
   "outputs": [],
   "source": [
    "classified_dogs = clean_twtarchive[clean_twtarchive.dog_class != 'None']"
   ]
  },
  {
   "cell_type": "code",
   "execution_count": 41,
   "metadata": {},
   "outputs": [],
   "source": [
    "clean_twtarchive = clean_twtarchive1.merge(classified_dogs, on=['tweet_id', 'in_reply_to_status_id', 'in_reply_to_user_id', 'timestamp', \n",
    "                                                                'source', 'text', 'retweeted_status_id', 'retweeted_status_user_id', \n",
    "                                                                'retweeted_status_timestamp', 'expanded_urls', 'rating_numerator', \n",
    "                                                                'rating_denominator', 'name'], how='outer')"
   ]
  },
  {
   "cell_type": "code",
   "execution_count": 42,
   "metadata": {},
   "outputs": [],
   "source": [
    "clean_twtarchive = clean_twtarchive.drop(columns=['doggo','floofer','pupper','puppo','class'])"
   ]
  },
  {
   "cell_type": "code",
   "execution_count": 43,
   "metadata": {},
   "outputs": [],
   "source": [
    "clean_twtarchive = clean_twtarchive.fillna('others')\n",
    "clean_twtarchive.drop_duplicates(subset= 'tweet_id', inplace=True)"
   ]
  },
  {
   "cell_type": "markdown",
   "metadata": {},
   "source": [
    "#### Test"
   ]
  },
  {
   "cell_type": "code",
   "execution_count": 44,
   "metadata": {},
   "outputs": [
    {
     "name": "stdout",
     "output_type": "stream",
     "text": [
      "<class 'pandas.core.frame.DataFrame'>\n",
      "Int64Index: 2356 entries, 0 to 2369\n",
      "Data columns (total 14 columns):\n",
      " #   Column                      Non-Null Count  Dtype \n",
      "---  ------                      --------------  ----- \n",
      " 0   tweet_id                    2356 non-null   int64 \n",
      " 1   in_reply_to_status_id       2356 non-null   object\n",
      " 2   in_reply_to_user_id         2356 non-null   object\n",
      " 3   timestamp                   2356 non-null   object\n",
      " 4   source                      2356 non-null   object\n",
      " 5   text                        2356 non-null   object\n",
      " 6   retweeted_status_id         2356 non-null   object\n",
      " 7   retweeted_status_user_id    2356 non-null   object\n",
      " 8   retweeted_status_timestamp  2356 non-null   object\n",
      " 9   expanded_urls               2356 non-null   object\n",
      " 10  rating_numerator            2356 non-null   int64 \n",
      " 11  rating_denominator          2356 non-null   int64 \n",
      " 12  name                        2356 non-null   object\n",
      " 13  dog_class                   2356 non-null   object\n",
      "dtypes: int64(3), object(11)\n",
      "memory usage: 276.1+ KB\n"
     ]
    }
   ],
   "source": [
    "# Check if necessary columns have been created and dropped\n",
    "clean_twtarchive.info()"
   ]
  },
  {
   "cell_type": "code",
   "execution_count": 45,
   "metadata": {},
   "outputs": [
    {
     "data": {
      "text/plain": [
       "0"
      ]
     },
     "execution_count": 45,
     "metadata": {},
     "output_type": "execute_result"
    }
   ],
   "source": [
    "# Check for duplicates\n",
    "clean_twtarchive.tweet_id.duplicated().sum()"
   ]
  },
  {
   "cell_type": "code",
   "execution_count": 46,
   "metadata": {},
   "outputs": [
    {
     "data": {
      "text/plain": [
       "array(['others', 'doggo', 'puppo', 'pupper', 'floofer'], dtype=object)"
      ]
     },
     "execution_count": 46,
     "metadata": {},
     "output_type": "execute_result"
    }
   ],
   "source": [
    "# Check for unique values in dog_class column\n",
    "clean_twtarchive['dog_class'].unique()"
   ]
  },
  {
   "cell_type": "markdown",
   "metadata": {},
   "source": [
    "### Quality Issue #2: Timestamp columns in **twitter_archive** should be in datetime datatype. We need the year and the month for each tweet."
   ]
  },
  {
   "cell_type": "markdown",
   "metadata": {},
   "source": [
    "#### Define\n",
    "*Convert timestamp column to datetime datatype. Extract the year and the month from timestamp column and create new columns called tweet_month and tweet_year.*"
   ]
  },
  {
   "cell_type": "markdown",
   "metadata": {},
   "source": [
    "#### Code"
   ]
  },
  {
   "cell_type": "code",
   "execution_count": 47,
   "metadata": {},
   "outputs": [],
   "source": [
    "clean_twtarchive['timestamp'] = pd.to_datetime(clean_twtarchive['timestamp'], yearfirst=True)"
   ]
  },
  {
   "cell_type": "code",
   "execution_count": 48,
   "metadata": {
    "scrolled": true
   },
   "outputs": [],
   "source": [
    "clean_twtarchive['tweet_month'] = clean_twtarchive['timestamp'].dt.month"
   ]
  },
  {
   "cell_type": "code",
   "execution_count": 49,
   "metadata": {},
   "outputs": [],
   "source": [
    "clean_twtarchive['tweet_year'] = clean_twtarchive['timestamp'].dt.year"
   ]
  },
  {
   "cell_type": "markdown",
   "metadata": {},
   "source": [
    "#### Test"
   ]
  },
  {
   "cell_type": "code",
   "execution_count": 50,
   "metadata": {},
   "outputs": [
    {
     "name": "stdout",
     "output_type": "stream",
     "text": [
      "<class 'pandas.core.frame.DataFrame'>\n",
      "Int64Index: 2356 entries, 0 to 2369\n",
      "Data columns (total 16 columns):\n",
      " #   Column                      Non-Null Count  Dtype              \n",
      "---  ------                      --------------  -----              \n",
      " 0   tweet_id                    2356 non-null   int64              \n",
      " 1   in_reply_to_status_id       2356 non-null   object             \n",
      " 2   in_reply_to_user_id         2356 non-null   object             \n",
      " 3   timestamp                   2356 non-null   datetime64[ns, UTC]\n",
      " 4   source                      2356 non-null   object             \n",
      " 5   text                        2356 non-null   object             \n",
      " 6   retweeted_status_id         2356 non-null   object             \n",
      " 7   retweeted_status_user_id    2356 non-null   object             \n",
      " 8   retweeted_status_timestamp  2356 non-null   object             \n",
      " 9   expanded_urls               2356 non-null   object             \n",
      " 10  rating_numerator            2356 non-null   int64              \n",
      " 11  rating_denominator          2356 non-null   int64              \n",
      " 12  name                        2356 non-null   object             \n",
      " 13  dog_class                   2356 non-null   object             \n",
      " 14  tweet_month                 2356 non-null   int64              \n",
      " 15  tweet_year                  2356 non-null   int64              \n",
      "dtypes: datetime64[ns, UTC](1), int64(5), object(10)\n",
      "memory usage: 312.9+ KB\n"
     ]
    }
   ],
   "source": [
    "# Check if necessary columns have been created\n",
    "clean_twtarchive.info()"
   ]
  },
  {
   "cell_type": "code",
   "execution_count": 51,
   "metadata": {},
   "outputs": [
    {
     "data": {
      "text/plain": [
       "0    8\n",
       "1    8\n",
       "2    7\n",
       "3    7\n",
       "4    7\n",
       "Name: tweet_month, dtype: int64"
      ]
     },
     "execution_count": 51,
     "metadata": {},
     "output_type": "execute_result"
    }
   ],
   "source": [
    "# View first five rows in tweet_month column\n",
    "clean_twtarchive['tweet_month'].head()"
   ]
  },
  {
   "cell_type": "code",
   "execution_count": 53,
   "metadata": {},
   "outputs": [
    {
     "data": {
      "text/plain": [
       "0    2017\n",
       "1    2017\n",
       "2    2017\n",
       "3    2017\n",
       "4    2017\n",
       "Name: tweet_year, dtype: int64"
      ]
     },
     "execution_count": 53,
     "metadata": {},
     "output_type": "execute_result"
    }
   ],
   "source": [
    "# View first five rows in tweet_year column\n",
    "clean_twtarchive['tweet_year'].head()"
   ]
  },
  {
   "cell_type": "markdown",
   "metadata": {},
   "source": [
    "### Quality Issue #3: Tweet_id columns in **twitter_archive** and **image_predictions** is in integer format instead of string."
   ]
  },
  {
   "cell_type": "markdown",
   "metadata": {},
   "source": [
    "#### Define\n",
    "*Convert tweet_id columns in twitter_archive and image_predictions from integer to string datatype using astype.*"
   ]
  },
  {
   "cell_type": "markdown",
   "metadata": {},
   "source": [
    "#### Code"
   ]
  },
  {
   "cell_type": "code",
   "execution_count": 54,
   "metadata": {},
   "outputs": [],
   "source": [
    "clean_twtarchive['tweet_id'] = clean_twtarchive['tweet_id'].astype(str)"
   ]
  },
  {
   "cell_type": "code",
   "execution_count": 55,
   "metadata": {},
   "outputs": [],
   "source": [
    "image_predictions['tweet_id'] = image_predictions['tweet_id'].astype(str)"
   ]
  },
  {
   "cell_type": "markdown",
   "metadata": {},
   "source": [
    "#### Test"
   ]
  },
  {
   "cell_type": "code",
   "execution_count": 56,
   "metadata": {
    "scrolled": true
   },
   "outputs": [
    {
     "data": {
      "text/plain": [
       "tweet_id                                   object\n",
       "in_reply_to_status_id                      object\n",
       "in_reply_to_user_id                        object\n",
       "timestamp                     datetime64[ns, UTC]\n",
       "source                                     object\n",
       "text                                       object\n",
       "retweeted_status_id                        object\n",
       "retweeted_status_user_id                   object\n",
       "retweeted_status_timestamp                 object\n",
       "expanded_urls                              object\n",
       "rating_numerator                            int64\n",
       "rating_denominator                          int64\n",
       "name                                       object\n",
       "dog_class                                  object\n",
       "tweet_month                                 int64\n",
       "tweet_year                                  int64\n",
       "dtype: object"
      ]
     },
     "execution_count": 56,
     "metadata": {},
     "output_type": "execute_result"
    }
   ],
   "source": [
    "# Check data types\n",
    "clean_twtarchive.dtypes"
   ]
  },
  {
   "cell_type": "code",
   "execution_count": 57,
   "metadata": {},
   "outputs": [
    {
     "data": {
      "text/plain": [
       "tweet_id     object\n",
       "jpg_url      object\n",
       "img_num       int64\n",
       "p1           object\n",
       "p1_conf     float64\n",
       "p1_dog         bool\n",
       "p2           object\n",
       "p2_conf     float64\n",
       "p2_dog         bool\n",
       "p3           object\n",
       "p3_conf     float64\n",
       "p3_dog         bool\n",
       "dtype: object"
      ]
     },
     "execution_count": 57,
     "metadata": {},
     "output_type": "execute_result"
    }
   ],
   "source": [
    "# Check data types\n",
    "image_predictions.dtypes"
   ]
  },
  {
   "cell_type": "markdown",
   "metadata": {},
   "source": [
    "### Tidiness Issue #2: Additional_data and image_predictions tables should be part of the twitter_archive table."
   ]
  },
  {
   "cell_type": "markdown",
   "metadata": {
    "collapsed": true,
    "extensions": {
     "jupyter_dashboards": {
      "version": 1,
      "views": {
       "grid_default": {
        "hidden": true
       },
       "report_default": {
        "hidden": true
       }
      }
     }
    }
   },
   "source": [
    "#### Define\n",
    "*Merge `additional_data` table and `image_predictions` table to `twitter_archive table`.*"
   ]
  },
  {
   "cell_type": "markdown",
   "metadata": {},
   "source": [
    "#### Code"
   ]
  },
  {
   "cell_type": "code",
   "execution_count": 58,
   "metadata": {},
   "outputs": [],
   "source": [
    "clean_twtarchive_master = pd.merge(clean_twtarchive, additional_data, \n",
    "                                   on='tweet_id', how='outer').merge(image_predictions, \n",
    "                                                                     on='tweet_id', how='outer')"
   ]
  },
  {
   "cell_type": "markdown",
   "metadata": {},
   "source": [
    "#### Test"
   ]
  },
  {
   "cell_type": "code",
   "execution_count": 59,
   "metadata": {
    "scrolled": true
   },
   "outputs": [
    {
     "data": {
      "text/plain": [
       "Index(['tweet_id', 'in_reply_to_status_id', 'in_reply_to_user_id', 'timestamp',\n",
       "       'source', 'text', 'retweeted_status_id', 'retweeted_status_user_id',\n",
       "       'retweeted_status_timestamp', 'expanded_urls', 'rating_numerator',\n",
       "       'rating_denominator', 'name', 'dog_class', 'tweet_month', 'tweet_year',\n",
       "       'retweet_count', 'favorite_count', 'jpg_url', 'img_num', 'p1',\n",
       "       'p1_conf', 'p1_dog', 'p2', 'p2_conf', 'p2_dog', 'p3', 'p3_conf',\n",
       "       'p3_dog'],\n",
       "      dtype='object')"
      ]
     },
     "execution_count": 59,
     "metadata": {},
     "output_type": "execute_result"
    }
   ],
   "source": [
    "# Check columns to confirm if merge is successful\n",
    "clean_twtarchive_master.columns"
   ]
  },
  {
   "cell_type": "code",
   "execution_count": 60,
   "metadata": {},
   "outputs": [
    {
     "name": "stdout",
     "output_type": "stream",
     "text": [
      "<class 'pandas.core.frame.DataFrame'>\n",
      "Int64Index: 2356 entries, 0 to 2355\n",
      "Data columns (total 29 columns):\n",
      " #   Column                      Non-Null Count  Dtype              \n",
      "---  ------                      --------------  -----              \n",
      " 0   tweet_id                    2356 non-null   object             \n",
      " 1   in_reply_to_status_id       2356 non-null   object             \n",
      " 2   in_reply_to_user_id         2356 non-null   object             \n",
      " 3   timestamp                   2356 non-null   datetime64[ns, UTC]\n",
      " 4   source                      2356 non-null   object             \n",
      " 5   text                        2356 non-null   object             \n",
      " 6   retweeted_status_id         2356 non-null   object             \n",
      " 7   retweeted_status_user_id    2356 non-null   object             \n",
      " 8   retweeted_status_timestamp  2356 non-null   object             \n",
      " 9   expanded_urls               2356 non-null   object             \n",
      " 10  rating_numerator            2356 non-null   int64              \n",
      " 11  rating_denominator          2356 non-null   int64              \n",
      " 12  name                        2356 non-null   object             \n",
      " 13  dog_class                   2356 non-null   object             \n",
      " 14  tweet_month                 2356 non-null   int64              \n",
      " 15  tweet_year                  2356 non-null   int64              \n",
      " 16  retweet_count               2327 non-null   float64            \n",
      " 17  favorite_count              2327 non-null   float64            \n",
      " 18  jpg_url                     2075 non-null   object             \n",
      " 19  img_num                     2075 non-null   float64            \n",
      " 20  p1                          2075 non-null   object             \n",
      " 21  p1_conf                     2075 non-null   float64            \n",
      " 22  p1_dog                      2075 non-null   object             \n",
      " 23  p2                          2075 non-null   object             \n",
      " 24  p2_conf                     2075 non-null   float64            \n",
      " 25  p2_dog                      2075 non-null   object             \n",
      " 26  p3                          2075 non-null   object             \n",
      " 27  p3_conf                     2075 non-null   float64            \n",
      " 28  p3_dog                      2075 non-null   object             \n",
      "dtypes: datetime64[ns, UTC](1), float64(6), int64(4), object(18)\n",
      "memory usage: 552.2+ KB\n"
     ]
    }
   ],
   "source": [
    "# View general summary of dataframe\n",
    "clean_twtarchive_master.info()"
   ]
  },
  {
   "cell_type": "markdown",
   "metadata": {},
   "source": [
    "### Quality Issue #4 & #5: Name column header is non-descriptive. Some dog names are invalid. "
   ]
  },
  {
   "cell_type": "markdown",
   "metadata": {},
   "source": [
    "#### Define\n",
    "*Rename 'name' column as 'dog_name'. Subset columns where 'dog_name' does not start with capital letter and replace with 'None'.*"
   ]
  },
  {
   "cell_type": "markdown",
   "metadata": {},
   "source": [
    "#### Code"
   ]
  },
  {
   "cell_type": "code",
   "execution_count": 61,
   "metadata": {},
   "outputs": [],
   "source": [
    "clean_twtarchive_master.rename(columns={'name':'dog_name'}, inplace=True)"
   ]
  },
  {
   "cell_type": "code",
   "execution_count": 62,
   "metadata": {
    "scrolled": true
   },
   "outputs": [
    {
     "name": "stderr",
     "output_type": "stream",
     "text": [
      "C:\\Users\\HP\\AppData\\Local\\Temp\\ipykernel_10792\\293944669.py:1: UserWarning: This pattern is interpreted as a regular expression, and has match groups. To actually get the groups, use str.extract.\n",
      "  invalid_names = list(clean_twtarchive_master.dog_name[clean_twtarchive_master['dog_name'].str.contains(r'(^[a-z]+)')])\n"
     ]
    }
   ],
   "source": [
    "invalid_names = list(clean_twtarchive_master.dog_name[clean_twtarchive_master['dog_name'].str.contains(r'(^[a-z]+)')])\n",
    "\n",
    "for name in invalid_names:\n",
    "        clean_twtarchive_master['dog_name'].replace(to_replace=name, value='None', inplace=True)"
   ]
  },
  {
   "cell_type": "markdown",
   "metadata": {},
   "source": [
    "#### Test"
   ]
  },
  {
   "cell_type": "code",
   "execution_count": 63,
   "metadata": {
    "scrolled": true
   },
   "outputs": [
    {
     "data": {
      "text/plain": [
       "Index(['tweet_id', 'in_reply_to_status_id', 'in_reply_to_user_id', 'timestamp',\n",
       "       'source', 'text', 'retweeted_status_id', 'retweeted_status_user_id',\n",
       "       'retweeted_status_timestamp', 'expanded_urls', 'rating_numerator',\n",
       "       'rating_denominator', 'dog_name', 'dog_class', 'tweet_month',\n",
       "       'tweet_year', 'retweet_count', 'favorite_count', 'jpg_url', 'img_num',\n",
       "       'p1', 'p1_conf', 'p1_dog', 'p2', 'p2_conf', 'p2_dog', 'p3', 'p3_conf',\n",
       "       'p3_dog'],\n",
       "      dtype='object')"
      ]
     },
     "execution_count": 63,
     "metadata": {},
     "output_type": "execute_result"
    }
   ],
   "source": [
    "# Confirm if column name has been updated for 'name' column\n",
    "clean_twtarchive_master.columns"
   ]
  },
  {
   "cell_type": "code",
   "execution_count": 64,
   "metadata": {},
   "outputs": [],
   "source": [
    "# Return error if invalid names are still in dog_name column\n",
    "for i in invalid_names:\n",
    "    assert i not in clean_twtarchive_master.dog_name.array"
   ]
  },
  {
   "cell_type": "code",
   "execution_count": 65,
   "metadata": {},
   "outputs": [
    {
     "data": {
      "text/plain": [
       "None          854\n",
       "Charlie        12\n",
       "Lucy           11\n",
       "Cooper         11\n",
       "Oliver         11\n",
       "             ... \n",
       "Devón           1\n",
       "Gert            1\n",
       "Dex             1\n",
       "Ace             1\n",
       "Christoper      1\n",
       "Name: dog_name, Length: 932, dtype: int64"
      ]
     },
     "execution_count": 65,
     "metadata": {},
     "output_type": "execute_result"
    }
   ],
   "source": [
    "# Check values in dog_name column\n",
    "clean_twtarchive_master['dog_name'].value_counts()"
   ]
  },
  {
   "cell_type": "markdown",
   "metadata": {},
   "source": [
    "### Quality Issue #6: Some tweets are retweets. We need the original tweets and not retweets."
   ]
  },
  {
   "cell_type": "markdown",
   "metadata": {},
   "source": [
    "#### Define\n",
    "*Select and drop rows where retweet_status_timestamp is not 'None'. Drop 'in_reply_to_status_id', 'in_reply_to_user_id', 'retweeted_status_id', 'retweeted_status_user_id' and 'retweeted_status_timestamp' columns.*"
   ]
  },
  {
   "cell_type": "markdown",
   "metadata": {},
   "source": [
    "#### Code"
   ]
  },
  {
   "cell_type": "code",
   "execution_count": 66,
   "metadata": {
    "scrolled": true
   },
   "outputs": [],
   "source": [
    "retweets = clean_twtarchive_master.tweet_id[clean_twtarchive_master['retweeted_status_id'] != 'None']"
   ]
  },
  {
   "cell_type": "code",
   "execution_count": 67,
   "metadata": {},
   "outputs": [],
   "source": [
    "# Drop rows where retweet_status_timestamp is not 'None'\n",
    "clean_twtarchive_master = clean_twtarchive_master[clean_twtarchive_master['tweet_id'].isin(list(retweets)) == False]"
   ]
  },
  {
   "cell_type": "code",
   "execution_count": 68,
   "metadata": {},
   "outputs": [],
   "source": [
    "clean_twtarchive_master.drop(columns=['in_reply_to_status_id', 'in_reply_to_user_id', \n",
    "                                      'retweeted_status_id', 'retweeted_status_user_id', 'retweeted_status_timestamp' ], inplace=True)"
   ]
  },
  {
   "cell_type": "markdown",
   "metadata": {},
   "source": [
    "#### Test"
   ]
  },
  {
   "cell_type": "code",
   "execution_count": 69,
   "metadata": {},
   "outputs": [],
   "source": [
    "# Confirm that retweets have been removed from the data\n",
    "for r in retweets:\n",
    "    assert r not in clean_twtarchive_master.tweet_id.array"
   ]
  },
  {
   "cell_type": "code",
   "execution_count": 70,
   "metadata": {
    "scrolled": true
   },
   "outputs": [
    {
     "name": "stdout",
     "output_type": "stream",
     "text": [
      "<class 'pandas.core.frame.DataFrame'>\n",
      "Int64Index: 2175 entries, 0 to 2355\n",
      "Data columns (total 24 columns):\n",
      " #   Column              Non-Null Count  Dtype              \n",
      "---  ------              --------------  -----              \n",
      " 0   tweet_id            2175 non-null   object             \n",
      " 1   timestamp           2175 non-null   datetime64[ns, UTC]\n",
      " 2   source              2175 non-null   object             \n",
      " 3   text                2175 non-null   object             \n",
      " 4   expanded_urls       2175 non-null   object             \n",
      " 5   rating_numerator    2175 non-null   int64              \n",
      " 6   rating_denominator  2175 non-null   int64              \n",
      " 7   dog_name            2175 non-null   object             \n",
      " 8   dog_class           2175 non-null   object             \n",
      " 9   tweet_month         2175 non-null   int64              \n",
      " 10  tweet_year          2175 non-null   int64              \n",
      " 11  retweet_count       2167 non-null   float64            \n",
      " 12  favorite_count      2167 non-null   float64            \n",
      " 13  jpg_url             1994 non-null   object             \n",
      " 14  img_num             1994 non-null   float64            \n",
      " 15  p1                  1994 non-null   object             \n",
      " 16  p1_conf             1994 non-null   float64            \n",
      " 17  p1_dog              1994 non-null   object             \n",
      " 18  p2                  1994 non-null   object             \n",
      " 19  p2_conf             1994 non-null   float64            \n",
      " 20  p2_dog              1994 non-null   object             \n",
      " 21  p3                  1994 non-null   object             \n",
      " 22  p3_conf             1994 non-null   float64            \n",
      " 23  p3_dog              1994 non-null   object             \n",
      "dtypes: datetime64[ns, UTC](1), float64(6), int64(4), object(13)\n",
      "memory usage: 424.8+ KB\n"
     ]
    }
   ],
   "source": [
    "# Confirm necessary columns have been dropped\n",
    "clean_twtarchive_master.info()"
   ]
  },
  {
   "cell_type": "markdown",
   "metadata": {},
   "source": [
    "### Quality Issue #7: Some tweets are not about dogs."
   ]
  },
  {
   "cell_type": "markdown",
   "metadata": {},
   "source": [
    "#### Define\n",
    "*Subset rows where 'dog_class' column value is others, 'p1_dog', 'p2_dog' and 'p3_dog' column values are False and where 'p1_conf', 'p2_conf' or 'p3_conf' values are greater than 0.95, create a list of the tweet ids that satisfy those criteria and drop rows with tweet id that appears in list.*"
   ]
  },
  {
   "cell_type": "markdown",
   "metadata": {},
   "source": [
    "#### Code"
   ]
  },
  {
   "cell_type": "code",
   "execution_count": 71,
   "metadata": {},
   "outputs": [],
   "source": [
    "unclassified_dogs = clean_twtarchive_master[clean_twtarchive_master['dog_class'] == 'others']"
   ]
  },
  {
   "cell_type": "code",
   "execution_count": 72,
   "metadata": {
    "scrolled": true
   },
   "outputs": [],
   "source": [
    "not_dogs = unclassified_dogs[((unclassified_dogs['p1_dog'] == False) & (unclassified_dogs['p2_dog'] == False) \n",
    "                         & (unclassified_dogs['p3_dog'] == False))]"
   ]
  },
  {
   "cell_type": "code",
   "execution_count": 73,
   "metadata": {
    "scrolled": true
   },
   "outputs": [],
   "source": [
    "to_drop = not_dogs[((not_dogs['p1_conf'] >= 0.95) | (not_dogs['p2_conf'] >= 0.95) | (not_dogs['p3_conf'] >= 0.95))]\n",
    "# Create list of tweet ids to drop\n",
    "ids_to_drop = list(to_drop['tweet_id'])"
   ]
  },
  {
   "cell_type": "code",
   "execution_count": 74,
   "metadata": {
    "scrolled": true
   },
   "outputs": [],
   "source": [
    "clean_twtarchive_master = clean_twtarchive_master[clean_twtarchive_master['tweet_id'].isin(ids_to_drop) == False]"
   ]
  },
  {
   "cell_type": "markdown",
   "metadata": {},
   "source": [
    "#### Test"
   ]
  },
  {
   "cell_type": "code",
   "execution_count": 75,
   "metadata": {},
   "outputs": [],
   "source": [
    "# Confirm necessary rows have been dropped\n",
    "for ids in ids_to_drop:\n",
    "    assert ids not in clean_twtarchive_master['tweet_id'].array"
   ]
  },
  {
   "cell_type": "code",
   "execution_count": 76,
   "metadata": {},
   "outputs": [
    {
     "data": {
      "text/html": [
       "<div>\n",
       "<style scoped>\n",
       "    .dataframe tbody tr th:only-of-type {\n",
       "        vertical-align: middle;\n",
       "    }\n",
       "\n",
       "    .dataframe tbody tr th {\n",
       "        vertical-align: top;\n",
       "    }\n",
       "\n",
       "    .dataframe thead th {\n",
       "        text-align: right;\n",
       "    }\n",
       "</style>\n",
       "<table border=\"1\" class=\"dataframe\">\n",
       "  <thead>\n",
       "    <tr style=\"text-align: right;\">\n",
       "      <th></th>\n",
       "      <th>tweet_id</th>\n",
       "      <th>timestamp</th>\n",
       "      <th>source</th>\n",
       "      <th>text</th>\n",
       "      <th>expanded_urls</th>\n",
       "      <th>rating_numerator</th>\n",
       "      <th>rating_denominator</th>\n",
       "      <th>dog_name</th>\n",
       "      <th>dog_class</th>\n",
       "      <th>tweet_month</th>\n",
       "      <th>...</th>\n",
       "      <th>img_num</th>\n",
       "      <th>p1</th>\n",
       "      <th>p1_conf</th>\n",
       "      <th>p1_dog</th>\n",
       "      <th>p2</th>\n",
       "      <th>p2_conf</th>\n",
       "      <th>p2_dog</th>\n",
       "      <th>p3</th>\n",
       "      <th>p3_conf</th>\n",
       "      <th>p3_dog</th>\n",
       "    </tr>\n",
       "  </thead>\n",
       "  <tbody>\n",
       "    <tr>\n",
       "      <th>2132</th>\n",
       "      <td>670079681849372674</td>\n",
       "      <td>2015-11-27 03:20:20+00:00</td>\n",
       "      <td>&lt;a href=\"http://twitter.com/download/iphone\" r...</td>\n",
       "      <td>Meet Fabio. He's a wonderful pup. Can't stay a...</td>\n",
       "      <td>https://twitter.com/dog_rates/status/670079681...</td>\n",
       "      <td>10</td>\n",
       "      <td>10</td>\n",
       "      <td>Fabio</td>\n",
       "      <td>others</td>\n",
       "      <td>11</td>\n",
       "      <td>...</td>\n",
       "      <td>1.0</td>\n",
       "      <td>mud_turtle</td>\n",
       "      <td>0.157477</td>\n",
       "      <td>False</td>\n",
       "      <td>terrapin</td>\n",
       "      <td>0.131846</td>\n",
       "      <td>False</td>\n",
       "      <td>box_turtle</td>\n",
       "      <td>0.060678</td>\n",
       "      <td>False</td>\n",
       "    </tr>\n",
       "    <tr>\n",
       "      <th>2066</th>\n",
       "      <td>671147085991960577</td>\n",
       "      <td>2015-11-30 02:01:49+00:00</td>\n",
       "      <td>&lt;a href=\"http://twitter.com/download/iphone\" r...</td>\n",
       "      <td>This is a Helvetica Listerine named Rufus. Thi...</td>\n",
       "      <td>https://twitter.com/dog_rates/status/671147085...</td>\n",
       "      <td>9</td>\n",
       "      <td>10</td>\n",
       "      <td>None</td>\n",
       "      <td>others</td>\n",
       "      <td>11</td>\n",
       "      <td>...</td>\n",
       "      <td>1.0</td>\n",
       "      <td>Yorkshire_terrier</td>\n",
       "      <td>0.467202</td>\n",
       "      <td>True</td>\n",
       "      <td>cairn</td>\n",
       "      <td>0.440122</td>\n",
       "      <td>True</td>\n",
       "      <td>silky_terrier</td>\n",
       "      <td>0.058690</td>\n",
       "      <td>True</td>\n",
       "    </tr>\n",
       "    <tr>\n",
       "      <th>1980</th>\n",
       "      <td>672975131468300288</td>\n",
       "      <td>2015-12-05 03:05:49+00:00</td>\n",
       "      <td>&lt;a href=\"http://twitter.com/download/iphone\" r...</td>\n",
       "      <td>This is Chuckles. He is one skeptical pupper. ...</td>\n",
       "      <td>https://twitter.com/dog_rates/status/672975131...</td>\n",
       "      <td>10</td>\n",
       "      <td>10</td>\n",
       "      <td>Chuckles</td>\n",
       "      <td>pupper</td>\n",
       "      <td>12</td>\n",
       "      <td>...</td>\n",
       "      <td>1.0</td>\n",
       "      <td>pug</td>\n",
       "      <td>0.836421</td>\n",
       "      <td>True</td>\n",
       "      <td>Brabancon_griffon</td>\n",
       "      <td>0.044668</td>\n",
       "      <td>True</td>\n",
       "      <td>French_bulldog</td>\n",
       "      <td>0.036570</td>\n",
       "      <td>True</td>\n",
       "    </tr>\n",
       "    <tr>\n",
       "      <th>329</th>\n",
       "      <td>833479644947025920</td>\n",
       "      <td>2017-02-20 00:53:27+00:00</td>\n",
       "      <td>&lt;a href=\"http://twitter.com/download/iphone\" r...</td>\n",
       "      <td>This is Poppy. She just arrived. 13/10 would s...</td>\n",
       "      <td>https://twitter.com/dog_rates/status/833479644...</td>\n",
       "      <td>13</td>\n",
       "      <td>10</td>\n",
       "      <td>Poppy</td>\n",
       "      <td>others</td>\n",
       "      <td>2</td>\n",
       "      <td>...</td>\n",
       "      <td>3.0</td>\n",
       "      <td>golden_retriever</td>\n",
       "      <td>0.727039</td>\n",
       "      <td>True</td>\n",
       "      <td>cocker_spaniel</td>\n",
       "      <td>0.071140</td>\n",
       "      <td>True</td>\n",
       "      <td>Tibetan_mastiff</td>\n",
       "      <td>0.048694</td>\n",
       "      <td>True</td>\n",
       "    </tr>\n",
       "    <tr>\n",
       "      <th>480</th>\n",
       "      <td>815736392542261248</td>\n",
       "      <td>2017-01-02 01:48:06+00:00</td>\n",
       "      <td>&lt;a href=\"http://twitter.com/download/iphone\" r...</td>\n",
       "      <td>This is Akumi. It's his birthday. He received ...</td>\n",
       "      <td>https://twitter.com/dog_rates/status/815736392...</td>\n",
       "      <td>11</td>\n",
       "      <td>10</td>\n",
       "      <td>Akumi</td>\n",
       "      <td>others</td>\n",
       "      <td>1</td>\n",
       "      <td>...</td>\n",
       "      <td>3.0</td>\n",
       "      <td>Border_collie</td>\n",
       "      <td>0.548907</td>\n",
       "      <td>True</td>\n",
       "      <td>Cardigan</td>\n",
       "      <td>0.178523</td>\n",
       "      <td>True</td>\n",
       "      <td>collie</td>\n",
       "      <td>0.146351</td>\n",
       "      <td>True</td>\n",
       "    </tr>\n",
       "  </tbody>\n",
       "</table>\n",
       "<p>5 rows × 24 columns</p>\n",
       "</div>"
      ],
      "text/plain": [
       "                tweet_id                 timestamp  \\\n",
       "2132  670079681849372674 2015-11-27 03:20:20+00:00   \n",
       "2066  671147085991960577 2015-11-30 02:01:49+00:00   \n",
       "1980  672975131468300288 2015-12-05 03:05:49+00:00   \n",
       "329   833479644947025920 2017-02-20 00:53:27+00:00   \n",
       "480   815736392542261248 2017-01-02 01:48:06+00:00   \n",
       "\n",
       "                                                 source  \\\n",
       "2132  <a href=\"http://twitter.com/download/iphone\" r...   \n",
       "2066  <a href=\"http://twitter.com/download/iphone\" r...   \n",
       "1980  <a href=\"http://twitter.com/download/iphone\" r...   \n",
       "329   <a href=\"http://twitter.com/download/iphone\" r...   \n",
       "480   <a href=\"http://twitter.com/download/iphone\" r...   \n",
       "\n",
       "                                                   text  \\\n",
       "2132  Meet Fabio. He's a wonderful pup. Can't stay a...   \n",
       "2066  This is a Helvetica Listerine named Rufus. Thi...   \n",
       "1980  This is Chuckles. He is one skeptical pupper. ...   \n",
       "329   This is Poppy. She just arrived. 13/10 would s...   \n",
       "480   This is Akumi. It's his birthday. He received ...   \n",
       "\n",
       "                                          expanded_urls  rating_numerator  \\\n",
       "2132  https://twitter.com/dog_rates/status/670079681...                10   \n",
       "2066  https://twitter.com/dog_rates/status/671147085...                 9   \n",
       "1980  https://twitter.com/dog_rates/status/672975131...                10   \n",
       "329   https://twitter.com/dog_rates/status/833479644...                13   \n",
       "480   https://twitter.com/dog_rates/status/815736392...                11   \n",
       "\n",
       "      rating_denominator  dog_name dog_class  tweet_month  ...  img_num  \\\n",
       "2132                  10     Fabio    others           11  ...      1.0   \n",
       "2066                  10      None    others           11  ...      1.0   \n",
       "1980                  10  Chuckles    pupper           12  ...      1.0   \n",
       "329                   10     Poppy    others            2  ...      3.0   \n",
       "480                   10     Akumi    others            1  ...      3.0   \n",
       "\n",
       "                     p1   p1_conf p1_dog                 p2   p2_conf  p2_dog  \\\n",
       "2132         mud_turtle  0.157477  False           terrapin  0.131846   False   \n",
       "2066  Yorkshire_terrier  0.467202   True              cairn  0.440122    True   \n",
       "1980                pug  0.836421   True  Brabancon_griffon  0.044668    True   \n",
       "329    golden_retriever  0.727039   True     cocker_spaniel  0.071140    True   \n",
       "480       Border_collie  0.548907   True           Cardigan  0.178523    True   \n",
       "\n",
       "                   p3   p3_conf  p3_dog  \n",
       "2132       box_turtle  0.060678   False  \n",
       "2066    silky_terrier  0.058690    True  \n",
       "1980   French_bulldog  0.036570    True  \n",
       "329   Tibetan_mastiff  0.048694    True  \n",
       "480            collie  0.146351    True  \n",
       "\n",
       "[5 rows x 24 columns]"
      ]
     },
     "execution_count": 76,
     "metadata": {},
     "output_type": "execute_result"
    }
   ],
   "source": [
    "# View five samples from the data\n",
    "clean_twtarchive_master.sample(5)"
   ]
  },
  {
   "cell_type": "markdown",
   "metadata": {},
   "source": [
    "### Quality Issue #8: Inaccurate ratings for some tweets.The rating denominator of the tweets should be fixed at 10."
   ]
  },
  {
   "cell_type": "markdown",
   "metadata": {},
   "source": [
    "#### Define\n",
    "*Select rows where rating denominator is not equal to 10 and drop those rows. Convert rating columns from string to integer datatype.*"
   ]
  },
  {
   "cell_type": "markdown",
   "metadata": {},
   "source": [
    "#### Code"
   ]
  },
  {
   "cell_type": "code",
   "execution_count": 77,
   "metadata": {
    "scrolled": false
   },
   "outputs": [],
   "source": [
    "wrong_ratings = clean_twtarchive_master.tweet_id[clean_twtarchive_master['rating_denominator'] != 10].index"
   ]
  },
  {
   "cell_type": "code",
   "execution_count": 78,
   "metadata": {},
   "outputs": [],
   "source": [
    "for ind in wrong_ratings:\n",
    "    clean_twtarchive_master.drop(index=ind, inplace=True)"
   ]
  },
  {
   "cell_type": "code",
   "execution_count": 79,
   "metadata": {},
   "outputs": [],
   "source": [
    "clean_twtarchive_master['rating_numerator'] = clean_twtarchive_master['rating_numerator'].astype(int)"
   ]
  },
  {
   "cell_type": "code",
   "execution_count": 80,
   "metadata": {},
   "outputs": [],
   "source": [
    "clean_twtarchive_master['rating_denominator'] = clean_twtarchive_master['rating_denominator'].astype(int)"
   ]
  },
  {
   "cell_type": "markdown",
   "metadata": {},
   "source": [
    "#### Test"
   ]
  },
  {
   "cell_type": "code",
   "execution_count": 81,
   "metadata": {},
   "outputs": [],
   "source": [
    "# Confirm tweet_ids with wrong rating_denominator in data have been dropped\n",
    "for w in wrong_ratings:\n",
    "    assert w not in clean_twtarchive_master.tweet_id.array"
   ]
  },
  {
   "cell_type": "code",
   "execution_count": 82,
   "metadata": {},
   "outputs": [
    {
     "data": {
      "text/plain": [
       "array([10])"
      ]
     },
     "execution_count": 82,
     "metadata": {},
     "output_type": "execute_result"
    }
   ],
   "source": [
    "# Check if rating denominator value for a tweets is fixed at value 10\n",
    "clean_twtarchive_master['rating_denominator'].unique()"
   ]
  },
  {
   "cell_type": "code",
   "execution_count": 83,
   "metadata": {},
   "outputs": [
    {
     "data": {
      "text/plain": [
       "tweet_id                           object\n",
       "timestamp             datetime64[ns, UTC]\n",
       "source                             object\n",
       "text                               object\n",
       "expanded_urls                      object\n",
       "rating_numerator                    int32\n",
       "rating_denominator                  int32\n",
       "dog_name                           object\n",
       "dog_class                          object\n",
       "tweet_month                         int64\n",
       "tweet_year                          int64\n",
       "retweet_count                     float64\n",
       "favorite_count                    float64\n",
       "jpg_url                            object\n",
       "img_num                           float64\n",
       "p1                                 object\n",
       "p1_conf                           float64\n",
       "p1_dog                             object\n",
       "p2                                 object\n",
       "p2_conf                           float64\n",
       "p2_dog                             object\n",
       "p3                                 object\n",
       "p3_conf                           float64\n",
       "p3_dog                             object\n",
       "dtype: object"
      ]
     },
     "execution_count": 83,
     "metadata": {},
     "output_type": "execute_result"
    }
   ],
   "source": [
    "# Confirm rating columns have been converted to integer datatype\n",
    "clean_twtarchive_master.dtypes"
   ]
  },
  {
   "cell_type": "markdown",
   "metadata": {},
   "source": [
    "### Quality Issue #9: Incorrect datatypes and missing values as a result of merging."
   ]
  },
  {
   "cell_type": "markdown",
   "metadata": {},
   "source": [
    "#### Define\n",
    "*Fill missing values in columns with integer and float datatypes with 0. Convert: retweet_count and favorite_count columns to integer datatype, p1_conf, p2_conf and p3_conf columns to float, and p1_dog, p2_dog and p3_dog columns to boolean. Fill missing values in columns with object datatype with 'None'. Convert tweet_month column to category datatype with months as assigned category values. Reset the index of the cleaned data.*"
   ]
  },
  {
   "cell_type": "markdown",
   "metadata": {},
   "source": [
    "#### Code"
   ]
  },
  {
   "cell_type": "code",
   "execution_count": 84,
   "metadata": {},
   "outputs": [],
   "source": [
    "clean_twtarchive_master['retweet_count'] = clean_twtarchive_master['retweet_count'].fillna(0).astype(np.int64)"
   ]
  },
  {
   "cell_type": "code",
   "execution_count": 85,
   "metadata": {},
   "outputs": [],
   "source": [
    "clean_twtarchive_master['favorite_count'] = clean_twtarchive_master['favorite_count'].fillna(0).astype(np.int64)"
   ]
  },
  {
   "cell_type": "code",
   "execution_count": 86,
   "metadata": {},
   "outputs": [],
   "source": [
    "clean_twtarchive_master['p1_conf'] = clean_twtarchive_master['p1_conf'].fillna(0).astype(np.float64)"
   ]
  },
  {
   "cell_type": "code",
   "execution_count": 87,
   "metadata": {},
   "outputs": [],
   "source": [
    "clean_twtarchive_master['p2_conf'] = clean_twtarchive_master['p2_conf'].fillna(0).astype(np.float64)"
   ]
  },
  {
   "cell_type": "code",
   "execution_count": 88,
   "metadata": {},
   "outputs": [],
   "source": [
    "clean_twtarchive_master['p3_conf'] = clean_twtarchive_master['p3_conf'].fillna(0).astype(np.float64)"
   ]
  },
  {
   "cell_type": "code",
   "execution_count": 89,
   "metadata": {},
   "outputs": [],
   "source": [
    "clean_twtarchive_master['p1_dog'] = clean_twtarchive_master['p1_dog'].fillna('None').astype(bool)"
   ]
  },
  {
   "cell_type": "code",
   "execution_count": 90,
   "metadata": {},
   "outputs": [],
   "source": [
    "clean_twtarchive_master['p2_dog'] = clean_twtarchive_master['p2_dog'].fillna('None').astype(bool)"
   ]
  },
  {
   "cell_type": "code",
   "execution_count": 91,
   "metadata": {},
   "outputs": [],
   "source": [
    "clean_twtarchive_master['p3_dog'] = clean_twtarchive_master['p3_dog'].fillna('None').astype(bool)"
   ]
  },
  {
   "cell_type": "code",
   "execution_count": 92,
   "metadata": {},
   "outputs": [],
   "source": [
    "clean_twtarchive_master.fillna('None', inplace=True)"
   ]
  },
  {
   "cell_type": "code",
   "execution_count": 93,
   "metadata": {},
   "outputs": [],
   "source": [
    "clean_twtarchive_master['tweet_month'] = clean_twtarchive_master['tweet_month'].astype('category')\n",
    "\n",
    "from calendar import month_name as mn\n",
    "months = mn[1:]\n",
    "\n",
    "clean_twtarchive_master['tweet_month'] = clean_twtarchive_master['tweet_month'].cat.rename_categories(months)"
   ]
  },
  {
   "cell_type": "code",
   "execution_count": 94,
   "metadata": {},
   "outputs": [],
   "source": [
    "clean_twtarchive_master.reset_index(inplace=True)\n",
    "clean_twtarchive_master.drop(columns='index', inplace=True)"
   ]
  },
  {
   "cell_type": "markdown",
   "metadata": {},
   "source": [
    "#### Test"
   ]
  },
  {
   "cell_type": "code",
   "execution_count": 95,
   "metadata": {},
   "outputs": [
    {
     "name": "stdout",
     "output_type": "stream",
     "text": [
      "<class 'pandas.core.frame.DataFrame'>\n",
      "RangeIndex: 2116 entries, 0 to 2115\n",
      "Data columns (total 24 columns):\n",
      " #   Column              Non-Null Count  Dtype              \n",
      "---  ------              --------------  -----              \n",
      " 0   tweet_id            2116 non-null   object             \n",
      " 1   timestamp           2116 non-null   datetime64[ns, UTC]\n",
      " 2   source              2116 non-null   object             \n",
      " 3   text                2116 non-null   object             \n",
      " 4   expanded_urls       2116 non-null   object             \n",
      " 5   rating_numerator    2116 non-null   int32              \n",
      " 6   rating_denominator  2116 non-null   int32              \n",
      " 7   dog_name            2116 non-null   object             \n",
      " 8   dog_class           2116 non-null   object             \n",
      " 9   tweet_month         2116 non-null   category           \n",
      " 10  tweet_year          2116 non-null   int64              \n",
      " 11  retweet_count       2116 non-null   int64              \n",
      " 12  favorite_count      2116 non-null   int64              \n",
      " 13  jpg_url             2116 non-null   object             \n",
      " 14  img_num             2116 non-null   object             \n",
      " 15  p1                  2116 non-null   object             \n",
      " 16  p1_conf             2116 non-null   float64            \n",
      " 17  p1_dog              2116 non-null   bool               \n",
      " 18  p2                  2116 non-null   object             \n",
      " 19  p2_conf             2116 non-null   float64            \n",
      " 20  p2_dog              2116 non-null   bool               \n",
      " 21  p3                  2116 non-null   object             \n",
      " 22  p3_conf             2116 non-null   float64            \n",
      " 23  p3_dog              2116 non-null   bool               \n",
      "dtypes: bool(3), category(1), datetime64[ns, UTC](1), float64(3), int32(2), int64(3), object(11)\n",
      "memory usage: 322.9+ KB\n"
     ]
    }
   ],
   "source": [
    "# Check general summary of data\n",
    "clean_twtarchive_master.info()"
   ]
  },
  {
   "cell_type": "code",
   "execution_count": 96,
   "metadata": {},
   "outputs": [
    {
     "data": {
      "text/plain": [
       "tweet_id                           object\n",
       "timestamp             datetime64[ns, UTC]\n",
       "source                             object\n",
       "text                               object\n",
       "expanded_urls                      object\n",
       "rating_numerator                    int32\n",
       "rating_denominator                  int32\n",
       "dog_name                           object\n",
       "dog_class                          object\n",
       "tweet_month                      category\n",
       "tweet_year                          int64\n",
       "retweet_count                       int64\n",
       "favorite_count                      int64\n",
       "jpg_url                            object\n",
       "img_num                            object\n",
       "p1                                 object\n",
       "p1_conf                           float64\n",
       "p1_dog                               bool\n",
       "p2                                 object\n",
       "p2_conf                           float64\n",
       "p2_dog                               bool\n",
       "p3                                 object\n",
       "p3_conf                           float64\n",
       "p3_dog                               bool\n",
       "dtype: object"
      ]
     },
     "execution_count": 96,
     "metadata": {},
     "output_type": "execute_result"
    }
   ],
   "source": [
    "# Confirm datatypes for necessary columns have been converted \n",
    "clean_twtarchive_master.dtypes"
   ]
  },
  {
   "cell_type": "code",
   "execution_count": 97,
   "metadata": {},
   "outputs": [
    {
     "data": {
      "text/plain": [
       "tweet_id              0\n",
       "timestamp             0\n",
       "source                0\n",
       "text                  0\n",
       "expanded_urls         0\n",
       "rating_numerator      0\n",
       "rating_denominator    0\n",
       "dog_name              0\n",
       "dog_class             0\n",
       "tweet_month           0\n",
       "tweet_year            0\n",
       "retweet_count         0\n",
       "favorite_count        0\n",
       "jpg_url               0\n",
       "img_num               0\n",
       "p1                    0\n",
       "p1_conf               0\n",
       "p1_dog                0\n",
       "p2                    0\n",
       "p2_conf               0\n",
       "p2_dog                0\n",
       "p3                    0\n",
       "p3_conf               0\n",
       "p3_dog                0\n",
       "dtype: int64"
      ]
     },
     "execution_count": 97,
     "metadata": {},
     "output_type": "execute_result"
    }
   ],
   "source": [
    "# Confirm there are no missing values in the data\n",
    "clean_twtarchive_master.isna().sum()"
   ]
  },
  {
   "cell_type": "code",
   "execution_count": 98,
   "metadata": {},
   "outputs": [
    {
     "data": {
      "text/html": [
       "<div>\n",
       "<style scoped>\n",
       "    .dataframe tbody tr th:only-of-type {\n",
       "        vertical-align: middle;\n",
       "    }\n",
       "\n",
       "    .dataframe tbody tr th {\n",
       "        vertical-align: top;\n",
       "    }\n",
       "\n",
       "    .dataframe thead th {\n",
       "        text-align: right;\n",
       "    }\n",
       "</style>\n",
       "<table border=\"1\" class=\"dataframe\">\n",
       "  <thead>\n",
       "    <tr style=\"text-align: right;\">\n",
       "      <th></th>\n",
       "      <th>tweet_id</th>\n",
       "      <th>timestamp</th>\n",
       "      <th>source</th>\n",
       "      <th>text</th>\n",
       "      <th>expanded_urls</th>\n",
       "      <th>rating_numerator</th>\n",
       "      <th>rating_denominator</th>\n",
       "      <th>dog_name</th>\n",
       "      <th>dog_class</th>\n",
       "      <th>tweet_month</th>\n",
       "      <th>...</th>\n",
       "      <th>img_num</th>\n",
       "      <th>p1</th>\n",
       "      <th>p1_conf</th>\n",
       "      <th>p1_dog</th>\n",
       "      <th>p2</th>\n",
       "      <th>p2_conf</th>\n",
       "      <th>p2_dog</th>\n",
       "      <th>p3</th>\n",
       "      <th>p3_conf</th>\n",
       "      <th>p3_dog</th>\n",
       "    </tr>\n",
       "  </thead>\n",
       "  <tbody>\n",
       "    <tr>\n",
       "      <th>1318</th>\n",
       "      <td>690649993829576704</td>\n",
       "      <td>2016-01-22 21:39:24+00:00</td>\n",
       "      <td>&lt;a href=\"http://twitter.com/download/iphone\" r...</td>\n",
       "      <td>This is Hazel. She's a gymnast. Training hard ...</td>\n",
       "      <td>https://twitter.com/dog_rates/status/690649993...</td>\n",
       "      <td>11</td>\n",
       "      <td>10</td>\n",
       "      <td>Hazel</td>\n",
       "      <td>others</td>\n",
       "      <td>January</td>\n",
       "      <td>...</td>\n",
       "      <td>1.0</td>\n",
       "      <td>bighorn</td>\n",
       "      <td>0.215438</td>\n",
       "      <td>False</td>\n",
       "      <td>hyena</td>\n",
       "      <td>0.137928</td>\n",
       "      <td>False</td>\n",
       "      <td>Mexican_hairless</td>\n",
       "      <td>0.098171</td>\n",
       "      <td>True</td>\n",
       "    </tr>\n",
       "    <tr>\n",
       "      <th>1271</th>\n",
       "      <td>693642232151285760</td>\n",
       "      <td>2016-01-31 03:49:30+00:00</td>\n",
       "      <td>&lt;a href=\"http://twitter.com/download/iphone\" r...</td>\n",
       "      <td>Meet Freddery. He's a Westminster Toblerone. S...</td>\n",
       "      <td>https://twitter.com/dog_rates/status/693642232...</td>\n",
       "      <td>9</td>\n",
       "      <td>10</td>\n",
       "      <td>Freddery</td>\n",
       "      <td>others</td>\n",
       "      <td>January</td>\n",
       "      <td>...</td>\n",
       "      <td>1.0</td>\n",
       "      <td>Scottish_deerhound</td>\n",
       "      <td>0.111893</td>\n",
       "      <td>True</td>\n",
       "      <td>bluetick</td>\n",
       "      <td>0.074302</td>\n",
       "      <td>True</td>\n",
       "      <td>German_short-haired_pointer</td>\n",
       "      <td>0.067000</td>\n",
       "      <td>True</td>\n",
       "    </tr>\n",
       "    <tr>\n",
       "      <th>1196</th>\n",
       "      <td>699775878809702401</td>\n",
       "      <td>2016-02-17 02:02:25+00:00</td>\n",
       "      <td>&lt;a href=\"http://twitter.com/download/iphone\" r...</td>\n",
       "      <td>Meet Fillup. Spaghetti is his main weakness. A...</td>\n",
       "      <td>https://twitter.com/dog_rates/status/699775878...</td>\n",
       "      <td>11</td>\n",
       "      <td>10</td>\n",
       "      <td>Fillup</td>\n",
       "      <td>others</td>\n",
       "      <td>February</td>\n",
       "      <td>...</td>\n",
       "      <td>1.0</td>\n",
       "      <td>Dandie_Dinmont</td>\n",
       "      <td>0.271683</td>\n",
       "      <td>True</td>\n",
       "      <td>Old_English_sheepdog</td>\n",
       "      <td>0.164931</td>\n",
       "      <td>True</td>\n",
       "      <td>otterhound</td>\n",
       "      <td>0.105918</td>\n",
       "      <td>True</td>\n",
       "    </tr>\n",
       "  </tbody>\n",
       "</table>\n",
       "<p>3 rows × 24 columns</p>\n",
       "</div>"
      ],
      "text/plain": [
       "                tweet_id                 timestamp  \\\n",
       "1318  690649993829576704 2016-01-22 21:39:24+00:00   \n",
       "1271  693642232151285760 2016-01-31 03:49:30+00:00   \n",
       "1196  699775878809702401 2016-02-17 02:02:25+00:00   \n",
       "\n",
       "                                                 source  \\\n",
       "1318  <a href=\"http://twitter.com/download/iphone\" r...   \n",
       "1271  <a href=\"http://twitter.com/download/iphone\" r...   \n",
       "1196  <a href=\"http://twitter.com/download/iphone\" r...   \n",
       "\n",
       "                                                   text  \\\n",
       "1318  This is Hazel. She's a gymnast. Training hard ...   \n",
       "1271  Meet Freddery. He's a Westminster Toblerone. S...   \n",
       "1196  Meet Fillup. Spaghetti is his main weakness. A...   \n",
       "\n",
       "                                          expanded_urls  rating_numerator  \\\n",
       "1318  https://twitter.com/dog_rates/status/690649993...                11   \n",
       "1271  https://twitter.com/dog_rates/status/693642232...                 9   \n",
       "1196  https://twitter.com/dog_rates/status/699775878...                11   \n",
       "\n",
       "      rating_denominator  dog_name dog_class tweet_month  ...  img_num  \\\n",
       "1318                  10     Hazel    others     January  ...      1.0   \n",
       "1271                  10  Freddery    others     January  ...      1.0   \n",
       "1196                  10    Fillup    others    February  ...      1.0   \n",
       "\n",
       "                      p1   p1_conf p1_dog                    p2   p2_conf  \\\n",
       "1318             bighorn  0.215438  False                 hyena  0.137928   \n",
       "1271  Scottish_deerhound  0.111893   True              bluetick  0.074302   \n",
       "1196      Dandie_Dinmont  0.271683   True  Old_English_sheepdog  0.164931   \n",
       "\n",
       "      p2_dog                           p3   p3_conf  p3_dog  \n",
       "1318   False             Mexican_hairless  0.098171    True  \n",
       "1271    True  German_short-haired_pointer  0.067000    True  \n",
       "1196    True                   otterhound  0.105918    True  \n",
       "\n",
       "[3 rows x 24 columns]"
      ]
     },
     "execution_count": 98,
     "metadata": {},
     "output_type": "execute_result"
    }
   ],
   "source": [
    "# View three samples from the data\n",
    "clean_twtarchive_master.sample(3)"
   ]
  },
  {
   "cell_type": "markdown",
   "metadata": {},
   "source": [
    "## Storing Data\n",
    "Save gathered, assessed, and cleaned master dataset to a CSV file named \"twitter_archive_master.csv\"."
   ]
  },
  {
   "cell_type": "code",
   "execution_count": 99,
   "metadata": {},
   "outputs": [],
   "source": [
    "# Save wrangled master dataset to a CSV file named \"twitter_archive_master.csv\".\n",
    "clean_twtarchive_master.to_csv('twitter_archive_master.csv',index=False)"
   ]
  },
  {
   "cell_type": "markdown",
   "metadata": {},
   "source": [
    "## Analyzing and Visualizing Data\n",
    "This section analyzes and visualizes the wrangled twitter archive master data; clean_twtarchive_master and also produces some insights into the data.\n",
    "\n",
    "### <u> Analysis </u>\n",
    "- Tweet with highest retweet and favorite counts. (i.e. highest interaction)"
   ]
  },
  {
   "cell_type": "code",
   "execution_count": 100,
   "metadata": {},
   "outputs": [
    {
     "data": {
      "text/html": [
       "<div>\n",
       "<style scoped>\n",
       "    .dataframe tbody tr th:only-of-type {\n",
       "        vertical-align: middle;\n",
       "    }\n",
       "\n",
       "    .dataframe tbody tr th {\n",
       "        vertical-align: top;\n",
       "    }\n",
       "\n",
       "    .dataframe thead th {\n",
       "        text-align: right;\n",
       "    }\n",
       "</style>\n",
       "<table border=\"1\" class=\"dataframe\">\n",
       "  <thead>\n",
       "    <tr style=\"text-align: right;\">\n",
       "      <th></th>\n",
       "      <th>tweet_id</th>\n",
       "      <th>timestamp</th>\n",
       "      <th>source</th>\n",
       "      <th>text</th>\n",
       "      <th>expanded_urls</th>\n",
       "      <th>rating_numerator</th>\n",
       "      <th>rating_denominator</th>\n",
       "      <th>dog_name</th>\n",
       "      <th>dog_class</th>\n",
       "      <th>tweet_month</th>\n",
       "      <th>...</th>\n",
       "      <th>p1</th>\n",
       "      <th>p1_conf</th>\n",
       "      <th>p1_dog</th>\n",
       "      <th>p2</th>\n",
       "      <th>p2_conf</th>\n",
       "      <th>p2_dog</th>\n",
       "      <th>p3</th>\n",
       "      <th>p3_conf</th>\n",
       "      <th>p3_dog</th>\n",
       "      <th>interact_count</th>\n",
       "    </tr>\n",
       "  </thead>\n",
       "  <tbody>\n",
       "    <tr>\n",
       "      <th>850</th>\n",
       "      <td>744234799360020481</td>\n",
       "      <td>2016-06-18 18:26:18+00:00</td>\n",
       "      <td>&lt;a href=\"http://twitter.com/download/iphone\" r...</td>\n",
       "      <td>Here's a doggo realizing you can stand in a po...</td>\n",
       "      <td>https://twitter.com/dog_rates/status/744234799...</td>\n",
       "      <td>13</td>\n",
       "      <td>10</td>\n",
       "      <td>None</td>\n",
       "      <td>doggo</td>\n",
       "      <td>June</td>\n",
       "      <td>...</td>\n",
       "      <td>Labrador_retriever</td>\n",
       "      <td>0.825333</td>\n",
       "      <td>True</td>\n",
       "      <td>ice_bear</td>\n",
       "      <td>0.044681</td>\n",
       "      <td>False</td>\n",
       "      <td>whippet</td>\n",
       "      <td>0.018442</td>\n",
       "      <td>True</td>\n",
       "      <td>214293</td>\n",
       "    </tr>\n",
       "  </tbody>\n",
       "</table>\n",
       "<p>1 rows × 25 columns</p>\n",
       "</div>"
      ],
      "text/plain": [
       "               tweet_id                 timestamp  \\\n",
       "850  744234799360020481 2016-06-18 18:26:18+00:00   \n",
       "\n",
       "                                                source  \\\n",
       "850  <a href=\"http://twitter.com/download/iphone\" r...   \n",
       "\n",
       "                                                  text  \\\n",
       "850  Here's a doggo realizing you can stand in a po...   \n",
       "\n",
       "                                         expanded_urls  rating_numerator  \\\n",
       "850  https://twitter.com/dog_rates/status/744234799...                13   \n",
       "\n",
       "     rating_denominator dog_name dog_class tweet_month  ...  \\\n",
       "850                  10     None     doggo        June  ...   \n",
       "\n",
       "                     p1   p1_conf  p1_dog        p2   p2_conf p2_dog       p3  \\\n",
       "850  Labrador_retriever  0.825333    True  ice_bear  0.044681  False  whippet   \n",
       "\n",
       "      p3_conf p3_dog  interact_count  \n",
       "850  0.018442   True          214293  \n",
       "\n",
       "[1 rows x 25 columns]"
      ]
     },
     "execution_count": 100,
     "metadata": {},
     "output_type": "execute_result"
    }
   ],
   "source": [
    "# Create new column called 'interact_count' which is the sum of retweet_count and favorite_count. This column shows the number of tweet interactions. \n",
    "clean_twtarchive_master['interact_count'] = clean_twtarchive_master['retweet_count'] + clean_twtarchive_master['favorite_count']\n",
    "# Get the row/tweet with the highest interactions\n",
    "clean_twtarchive_master[clean_twtarchive_master['interact_count'] == clean_twtarchive_master['interact_count'].max()]"
   ]
  },
  {
   "cell_type": "markdown",
   "metadata": {},
   "source": [
    "- Dog class, excluding dog class 'others', with the highest retweet count."
   ]
  },
  {
   "cell_type": "code",
   "execution_count": 101,
   "metadata": {
    "scrolled": false
   },
   "outputs": [
    {
     "data": {
      "text/plain": [
       "dog_class\n",
       "doggo       442153\n",
       "floofer      29840\n",
       "others     3674420\n",
       "pupper      441736\n",
       "puppo       124116\n",
       "Name: retweet_count, dtype: int64"
      ]
     },
     "execution_count": 101,
     "metadata": {},
     "output_type": "execute_result"
    }
   ],
   "source": [
    "# Group by dog_class and show retweet count for each dog_class\n",
    "dog_class_retweet = clean_twtarchive_master.groupby('dog_class').retweet_count.sum()\n",
    "dog_class_retweet"
   ]
  },
  {
   "cell_type": "markdown",
   "metadata": {},
   "source": [
    "- Dog class, excluding dog class 'others', with highest favorite count."
   ]
  },
  {
   "cell_type": "code",
   "execution_count": 102,
   "metadata": {},
   "outputs": [
    {
     "data": {
      "text/plain": [
       "dog_class\n",
       "doggo       1327366\n",
       "floofer       84180\n",
       "others     12769908\n",
       "pupper      1375707\n",
       "puppo        448847\n",
       "Name: favorite_count, dtype: int64"
      ]
     },
     "execution_count": 102,
     "metadata": {},
     "output_type": "execute_result"
    }
   ],
   "source": [
    "# Group by dog_class and show favorite count for each dog_class\n",
    "dog_class_faves = clean_twtarchive_master.groupby('dog_class').favorite_count.sum()\n",
    "dog_class_faves"
   ]
  },
  {
   "cell_type": "markdown",
   "metadata": {},
   "source": [
    "- Dog class, excluding dog class 'others', with highest and lowest interaction."
   ]
  },
  {
   "cell_type": "code",
   "execution_count": 103,
   "metadata": {},
   "outputs": [
    {
     "data": {
      "text/plain": [
       "dog_class\n",
       "doggo       1769519\n",
       "floofer      114020\n",
       "others     16444328\n",
       "pupper      1817443\n",
       "puppo        572963\n",
       "Name: interact_count, dtype: int64"
      ]
     },
     "execution_count": 103,
     "metadata": {},
     "output_type": "execute_result"
    }
   ],
   "source": [
    "# Group by dog_class and show interactions count for each dog_class\n",
    "dog_class_interact = clean_twtarchive_master.groupby('dog_class').interact_count.sum()\n",
    "dog_class_interact"
   ]
  },
  {
   "cell_type": "markdown",
   "metadata": {},
   "source": [
    "- Year with the most tweets."
   ]
  },
  {
   "cell_type": "code",
   "execution_count": 104,
   "metadata": {},
   "outputs": [
    {
     "data": {
      "text/plain": [
       "tweet_year\n",
       "2015     660\n",
       "2016    1066\n",
       "2017     390\n",
       "Name: tweet_id, dtype: int64"
      ]
     },
     "execution_count": 104,
     "metadata": {},
     "output_type": "execute_result"
    }
   ],
   "source": [
    "# Group by year and show year with highest number of tweets \n",
    "year_count = clean_twtarchive_master.groupby('tweet_year').tweet_id.count()\n",
    "year_count"
   ]
  },
  {
   "cell_type": "markdown",
   "metadata": {},
   "source": [
    "- Month with the most tweets."
   ]
  },
  {
   "cell_type": "code",
   "execution_count": 105,
   "metadata": {},
   "outputs": [
    {
     "data": {
      "text/plain": [
       "tweet_month\n",
       "January      256\n",
       "February     191\n",
       "March        187\n",
       "April        105\n",
       "May          104\n",
       "June         142\n",
       "July         149\n",
       "August        65\n",
       "September     68\n",
       "October       73\n",
       "November     340\n",
       "December     436\n",
       "Name: tweet_id, dtype: int64"
      ]
     },
     "execution_count": 105,
     "metadata": {},
     "output_type": "execute_result"
    }
   ],
   "source": [
    "# Group by month and show month with highest number of tweets\n",
    "month_count = clean_twtarchive_master.groupby('tweet_month').tweet_id.count()\n",
    "month_count"
   ]
  },
  {
   "cell_type": "markdown",
   "metadata": {},
   "source": [
    "#### <u> Analyzing Dog Breed </u>"
   ]
  },
  {
   "cell_type": "code",
   "execution_count": 106,
   "metadata": {
    "scrolled": true
   },
   "outputs": [],
   "source": [
    "# Select tweets where predicted image for the 3 predictions is a breed of dog\n",
    "dogs = clean_twtarchive_master[((clean_twtarchive_master['p1_dog'] == True) | (clean_twtarchive_master['p2_dog'] == True) \n",
    "                         | (clean_twtarchive_master['p3_dog'] == True))]"
   ]
  },
  {
   "cell_type": "code",
   "execution_count": 107,
   "metadata": {
    "scrolled": true
   },
   "outputs": [
    {
     "name": "stderr",
     "output_type": "stream",
     "text": [
      "C:\\Users\\HP\\AppData\\Local\\Temp\\ipykernel_10792\\73442738.py:2: SettingWithCopyWarning: \n",
      "A value is trying to be set on a copy of a slice from a DataFrame.\n",
      "Try using .loc[row_indexer,col_indexer] = value instead\n",
      "\n",
      "See the caveats in the documentation: https://pandas.pydata.org/pandas-docs/stable/user_guide/indexing.html#returning-a-view-versus-a-copy\n",
      "  dogs['predicted_breed'] = None\n",
      "C:\\Users\\HP\\AppData\\Local\\Temp\\ipykernel_10792\\73442738.py:8: SettingWithCopyWarning: \n",
      "A value is trying to be set on a copy of a slice from a DataFrame\n",
      "\n",
      "See the caveats in the documentation: https://pandas.pydata.org/pandas-docs/stable/user_guide/indexing.html#returning-a-view-versus-a-copy\n",
      "  dogs['predicted_breed'][ind] = dogs.p1[ind] # input value in p1, if p1 probability is the highest and p1 is a breed of dog\n",
      "C:\\Users\\HP\\AppData\\Local\\Temp\\ipykernel_10792\\73442738.py:14: SettingWithCopyWarning: \n",
      "A value is trying to be set on a copy of a slice from a DataFrame\n",
      "\n",
      "See the caveats in the documentation: https://pandas.pydata.org/pandas-docs/stable/user_guide/indexing.html#returning-a-view-versus-a-copy\n",
      "  dogs['predicted_breed'][ind] = 'No breed'\n"
     ]
    }
   ],
   "source": [
    "# Create new column called 'predicted_breed' with column values being the image prediction with the highest probability\n",
    "dogs['predicted_breed'] = None\n",
    "\n",
    "tweetids = list(dogs.index) #  List of row indexes for dogs data\n",
    "\n",
    "for ind in tweetids:\n",
    "    if ((dogs.p1_conf[ind] > dogs.p2_conf[ind] > dogs.p3_conf[ind]) & dogs.p1_dog[ind] == True): \n",
    "        dogs['predicted_breed'][ind] = dogs.p1[ind] # input value in p1, if p1 probability is the highest and p1 is a breed of dog\n",
    "    elif ((dogs.p2_conf[ind] > dogs.p1_conf[ind] > dogs.p3_conf[ind]) & dogs.p2_dog[ind] == True):\n",
    "        dogs['predicted_breed'][ind] = dogs.p2[ind]  # input value in p2, if p2 probability is the highest and p2 is a breed of dog\n",
    "    elif ((dogs.p3_conf[ind] > dogs.p1_conf[ind] > dogs.p2_conf[ind]) & dogs.p3_dog[ind] == True):\n",
    "        dogs['predicted_breed'][ind] = dogs.p3[ind]  # input value in p3, if p3 probability is the highest and p3 is a breed of dog\n",
    "    else: # Input 'No breed' \n",
    "        dogs['predicted_breed'][ind] = 'No breed'\n",
    "\n",
    "# Drop rows where predicted_breed is 'No breed'\n",
    "dogs = dogs[dogs['predicted_breed'] != 'No breed']"
   ]
  },
  {
   "cell_type": "code",
   "execution_count": 108,
   "metadata": {
    "scrolled": true
   },
   "outputs": [
    {
     "data": {
      "text/plain": [
       "golden_retriever      135\n",
       "Labrador_retriever     92\n",
       "Pembroke               88\n",
       "Chihuahua              79\n",
       "pug                    54\n",
       "                     ... \n",
       "Scotch_terrier          1\n",
       "EntleBucher             1\n",
       "Japanese_spaniel        1\n",
       "standard_schnauzer      1\n",
       "clumber                 1\n",
       "Name: predicted_breed, Length: 111, dtype: int64"
      ]
     },
     "execution_count": 108,
     "metadata": {},
     "output_type": "execute_result"
    }
   ],
   "source": [
    "# Check values in predicted_breed column\n",
    "dogs.predicted_breed.value_counts()"
   ]
  },
  {
   "cell_type": "markdown",
   "metadata": {},
   "source": [
    "- Dog breed with highest retweet count."
   ]
  },
  {
   "cell_type": "code",
   "execution_count": 109,
   "metadata": {
    "scrolled": true
   },
   "outputs": [
    {
     "data": {
      "text/plain": [
       "predicted_breed\n",
       "golden_retriever      392331\n",
       "Labrador_retriever    274512\n",
       "Pembroke              226238\n",
       "Chihuahua             182051\n",
       "Samoyed               140816\n",
       "French_bulldog         97624\n",
       "chow                   94923\n",
       "Pomeranian             86553\n",
       "cocker_spaniel         80069\n",
       "Eskimo_dog             78971\n",
       "pug                    78394\n",
       "Name: retweet_count, dtype: int64"
      ]
     },
     "execution_count": 109,
     "metadata": {},
     "output_type": "execute_result"
    }
   ],
   "source": [
    "# Group by breed and show top 11 breeds based on retweet count\n",
    "breeds_retweet = dogs.groupby('predicted_breed').retweet_count.sum().sort_values(ascending=False)\n",
    "breeds_retweet.head(11)"
   ]
  },
  {
   "cell_type": "markdown",
   "metadata": {},
   "source": [
    "- Dog breed with highest favorite count."
   ]
  },
  {
   "cell_type": "code",
   "execution_count": 110,
   "metadata": {},
   "outputs": [
    {
     "data": {
      "text/plain": [
       "predicted_breed\n",
       "golden_retriever      1427301\n",
       "Labrador_retriever     896018\n",
       "Pembroke               863535\n",
       "Chihuahua              595422\n",
       "Samoyed                445891\n",
       "French_bulldog         406923\n",
       "chow                   351837\n",
       "pug                    269955\n",
       "cocker_spaniel         266786\n",
       "Pomeranian             263245\n",
       "Eskimo_dog             226083\n",
       "Name: favorite_count, dtype: int64"
      ]
     },
     "execution_count": 110,
     "metadata": {},
     "output_type": "execute_result"
    }
   ],
   "source": [
    "# Group by breed and show top 11 breeds based on favorite count \n",
    "breeds_faves = dogs.groupby('predicted_breed').favorite_count.sum().sort_values(ascending=False)\n",
    "breeds_faves.head(11)"
   ]
  },
  {
   "cell_type": "markdown",
   "metadata": {},
   "source": [
    "- Dog breed with highest interaction."
   ]
  },
  {
   "cell_type": "code",
   "execution_count": 111,
   "metadata": {
    "scrolled": false
   },
   "outputs": [
    {
     "data": {
      "text/plain": [
       "predicted_breed\n",
       "golden_retriever      1819632\n",
       "Labrador_retriever    1170530\n",
       "Pembroke              1089773\n",
       "Chihuahua              777473\n",
       "Samoyed                586707\n",
       "French_bulldog         504547\n",
       "chow                   446760\n",
       "Pomeranian             349798\n",
       "pug                    348349\n",
       "cocker_spaniel         346855\n",
       "Eskimo_dog             305054\n",
       "Name: interact_count, dtype: int64"
      ]
     },
     "execution_count": 111,
     "metadata": {},
     "output_type": "execute_result"
    }
   ],
   "source": [
    "# Group by breed and show top 11 breeds based on interactions count\n",
    "breeds_interact = dogs.groupby('predicted_breed').interact_count.sum().sort_values(ascending=False)\n",
    "breeds_interact.head(11)"
   ]
  },
  {
   "cell_type": "markdown",
   "metadata": {
    "collapsed": true
   },
   "source": [
    "### Visualization"
   ]
  },
  {
   "cell_type": "code",
   "execution_count": 112,
   "metadata": {},
   "outputs": [],
   "source": [
    "# Import relevant packages\n",
    "import seaborn as sns\n",
    "sns.set_style('darkgrid')"
   ]
  },
  {
   "cell_type": "markdown",
   "metadata": {},
   "source": [
    "- Total Interactions Count based on dog class."
   ]
  },
  {
   "cell_type": "code",
   "execution_count": 113,
   "metadata": {},
   "outputs": [],
   "source": [
    "# Create list of dog classes excluding dog class 'others'\n",
    "classes = list(dog_class_retweet.index)\n",
    "del classes[2]"
   ]
  },
  {
   "cell_type": "code",
   "execution_count": 114,
   "metadata": {},
   "outputs": [],
   "source": [
    "# Create list of total retweet count by dog class excluding dog class 'others'\n",
    "class_retweets = list(dog_class_retweet)\n",
    "del class_retweets[2]\n",
    "class_retweets_ms = [x/1000000 for x in class_retweets] # retweets by dog class in millions"
   ]
  },
  {
   "cell_type": "code",
   "execution_count": 115,
   "metadata": {},
   "outputs": [],
   "source": [
    "# Create list of total favorite count by dog class excluding dog class 'others'\n",
    "class_faves = list(dog_class_faves)\n",
    "del class_faves[2]\n",
    "class_faves_ms = [x/1000000 for x in class_faves] # favorites by dog class in millions"
   ]
  },
  {
   "cell_type": "code",
   "execution_count": 116,
   "metadata": {},
   "outputs": [
    {
     "data": {
      "image/png": "[encoded data removed]",
      "text/plain": [
       "<Figure size 864x576 with 1 Axes>"
      ]
     },
     "metadata": {},
     "output_type": "display_data"
    }
   ],
   "source": [
    "# Define chart parameters\n",
    "barWidth = 0.5\n",
    "\n",
    "# Display stacked bar chart\n",
    "plt.figure(figsize=(12,8))\n",
    "plt.rcParams['font.size'] = '14'\n",
    "plot1 = plt.bar(classes, class_retweets_ms, color='b', width=barWidth, alpha=.7)\n",
    "plot2 = plt.bar(classes, class_faves_ms, bottom=class_retweets_ms, color='r', width=barWidth, alpha=.7)\n",
    "\n",
    "# Title, labels and Ticks\n",
    "plt.ylabel('Count in Millions')\n",
    "plt.xlabel('Dog Classes')\n",
    "plt.title('Total Interactions Count by Dog Classes')\n",
    "plt.yticks(np.arange(2, step=0.2))\n",
    "\n",
    "# legend\n",
    "plt.legend((plot1[0], plot2[0]), ('Retweets', 'Favorites'))\n",
    "\n",
    "plt.show();"
   ]
  },
  {
   "cell_type": "markdown",
   "metadata": {},
   "source": [
    "- Proportion of Interactions (i.e. Retweets and Favorites) based on dog class."
   ]
  },
  {
   "cell_type": "code",
   "execution_count": 117,
   "metadata": {},
   "outputs": [],
   "source": [
    "# Create list of total interaction count by dog class excluding dog class 'others'\n",
    "class_interact = list(dog_class_interact)\n",
    "del class_interact[2]\n",
    "# Calculate sum total of interaction count excluding dog class 'others'\n",
    "total = sum(class_interact)"
   ]
  },
  {
   "cell_type": "code",
   "execution_count": 118,
   "metadata": {},
   "outputs": [
    {
     "data": {
      "text/plain": [
       "[0.10345313287840625,\n",
       " 0.006981839962844632,\n",
       " 0.10335556494058767,\n",
       " 0.029040149089424407]"
      ]
     },
     "execution_count": 118,
     "metadata": {},
     "output_type": "execute_result"
    }
   ],
   "source": [
    "# Calculate proportion\n",
    "class_retweet_proportions = [x/total for x in class_retweets] \n",
    "class_retweet_proportions"
   ]
  },
  {
   "cell_type": "code",
   "execution_count": 119,
   "metadata": {},
   "outputs": [
    {
     "data": {
      "text/plain": [
       "[0.3105716147493709,\n",
       " 0.019696088742368,\n",
       " 0.3218822422843532,\n",
       " 0.10501936735264492]"
      ]
     },
     "execution_count": 119,
     "metadata": {},
     "output_type": "execute_result"
    }
   ],
   "source": [
    "# Calculate proportion\n",
    "class_faves_proportions = [x/total for x in class_faves]\n",
    "class_faves_proportions"
   ]
  },
  {
   "cell_type": "code",
   "execution_count": 120,
   "metadata": {
    "scrolled": false
   },
   "outputs": [
    {
     "data": {
      "image/png": "[encoded data removed]",
      "text/plain": [
       "<Figure size 864x576 with 1 Axes>"
      ]
     },
     "metadata": {},
     "output_type": "display_data"
    }
   ],
   "source": [
    "# Define chart parameters\n",
    "ind = np.arange(len(classes))\n",
    "width = .35\n",
    "\n",
    "# Display multiple bar chart\n",
    "plt.figure(figsize=(12,8))\n",
    "red_bars = plt.bar(ind, class_faves_proportions, width, color='r', alpha=.7, label='Favorites')\n",
    "blue_bars = plt.bar(ind + width, class_retweet_proportions, width, color='b', alpha=.7, label='Retweets')\n",
    "\n",
    "# Title, labels and Ticks\n",
    "plt.ylabel('Proportion')\n",
    "plt.xlabel('Dog Classes')\n",
    "plt.title('Proportion by Tweet Interaction and Dog Classes')\n",
    "locations = ind + width / 2  # xtick locations\n",
    "labels = classes  # xtick labels\n",
    "plt.xticks(locations, labels)\n",
    "plt.yticks(np.arange(0.4, step=0.04)) # ytick labels\n",
    "\n",
    "# legend\n",
    "plt.legend();"
   ]
  },
  {
   "cell_type": "markdown",
   "metadata": {},
   "source": [
    "- Total Interactions Count based on dog breed."
   ]
  },
  {
   "cell_type": "code",
   "execution_count": 121,
   "metadata": {},
   "outputs": [],
   "source": [
    "# Create sorted list of top 11 dog breeds\n",
    "sort_breeds = breeds_retweet.head(11).sort_index()\n",
    "\n",
    "breeds = list(sort_breeds.index)"
   ]
  },
  {
   "cell_type": "code",
   "execution_count": 122,
   "metadata": {},
   "outputs": [],
   "source": [
    "# Create list of top 11 dog breeds based on favorite count\n",
    "fave_breeds = list(breeds_faves.head(11).sort_index())\n",
    "fave_breeds_ms = [x/1000000 for x in fave_breeds] # favorite count in millions"
   ]
  },
  {
   "cell_type": "code",
   "execution_count": 123,
   "metadata": {},
   "outputs": [],
   "source": [
    "# Create list of top 11 dog breeds based on retweet count\n",
    "rt_breeds = list(breeds_retweet.head(11).sort_index())\n",
    "rt_breeds_ms = [x/1000000 for x in rt_breeds] # retweet count in millions"
   ]
  },
  {
   "cell_type": "code",
   "execution_count": 124,
   "metadata": {},
   "outputs": [
    {
     "data": {
      "image/png": "[encoded data removed]",
      "text/plain": [
       "<Figure size 1008x576 with 1 Axes>"
      ]
     },
     "metadata": {},
     "output_type": "display_data"
    }
   ],
   "source": [
    "# Display stacked bar chart\n",
    "plt.figure(figsize=(14,8))\n",
    "plot1 = plt.barh(breeds, rt_breeds_ms, color='b', alpha=.7)\n",
    "plot2 = plt.barh(breeds, fave_breeds_ms, left=rt_breeds_ms, color='r', alpha=.7)\n",
    "\n",
    "# Title, labels and Ticks\n",
    "plt.xlabel('Count in Millions')\n",
    "plt.ylabel('Dog Breeds')\n",
    "plt.title('Total Interactions Count by Dog Breeds')\n",
    "plt.xticks(np.arange(0, 2.25, step = 0.25))\n",
    "\n",
    "# legend\n",
    "plt.legend((plot1[0], plot2[0]), ('Retweets', 'Favorites'))\n",
    "\n",
    "plt.show();"
   ]
  },
  {
   "cell_type": "markdown",
   "metadata": {},
   "source": [
    "- Number of tweets by month and year."
   ]
  },
  {
   "cell_type": "code",
   "execution_count": 125,
   "metadata": {},
   "outputs": [],
   "source": [
    "# Group by year and month and show number of tweets for each month in each year\n",
    "year_month = clean_twtarchive_master.groupby(['tweet_year','tweet_month']).tweet_id.count()\n",
    "\n",
    "# Create a dataframe with the total number of tweets based on year and month\n",
    "tweets_per_year = pd.DataFrame(year_month)\n",
    "tweets_per_year.reset_index(inplace=True)"
   ]
  },
  {
   "cell_type": "code",
   "execution_count": 126,
   "metadata": {},
   "outputs": [],
   "source": [
    "# Subset tweet counts for each year\n",
    "tweets2015 = tweets_per_year[tweets_per_year['tweet_year'] == 2015]\n",
    "tweets2016 = tweets_per_year[tweets_per_year['tweet_year'] == 2016]\n",
    "tweets2017 = tweets_per_year[tweets_per_year['tweet_year'] == 2017]"
   ]
  },
  {
   "cell_type": "code",
   "execution_count": 127,
   "metadata": {
    "scrolled": false
   },
   "outputs": [
    {
     "data": {
      "image/png": "[encoded data removed]",
      "text/plain": [
       "<Figure size 1152x576 with 1 Axes>"
      ]
     },
     "metadata": {},
     "output_type": "display_data"
    }
   ],
   "source": [
    "# Display line chart\n",
    "plt.figure(figsize=(16,8))\n",
    "y2015 = plt.plot(tweets2015['tweet_month'], tweets2015['tweet_id'], marker='o', color = 'b')\n",
    "y2016 = plt.plot(tweets2016['tweet_month'], tweets2016['tweet_id'], marker='o', color='r')\n",
    "y2017 = plt.plot(tweets2017['tweet_month'], tweets2017['tweet_id'], marker='o', color = 'g')\n",
    "\n",
    "# Title and labels\n",
    "plt.xlabel('Month')\n",
    "plt.ylabel('Tweet Count')\n",
    "plt.title('Total Tweet Count by Month and Year')\n",
    "\n",
    "# legend\n",
    "plt.legend((y2015[0],y2016[0],y2017[0]), ('2015','2016','2017'), title='Year')\n",
    "\n",
    "plt.show();"
   ]
  },
  {
   "cell_type": "markdown",
   "metadata": {},
   "source": [
    "### Insights:\n",
    "1. The tweet with the highest number of interactions has 214,397 interactions. It was published on the 18th of June in the year 2016 and it is about a doggo, predicted to be a labrador retriever at a confidence level of 82%, with a dog rating of 13/10.\n",
    "\n",
    "2. Tweets about dogs who are classified as doggos have more retweets than floofers, puppers and puppos. Conversely, tweets about floofers are the least retweeted.\n",
    "\n",
    "3. Tweets that are about puppers are favored more as compared to doggos, floofers, and puppos. \n",
    "\n",
    "4. Tweets which are about dogs who are classified as floofers are the least retweeted and also the least favored, hence they have the lowest interaction.\n",
    "\n",
    "5. Tweets about dogs which are puppers have the most interaction in terms of retweets and favorites as compared with doggos, floofers and puppos.\n",
    "\n",
    "6. WeRateDogs tweeted a lot more in the year, 2016 as compared to 2015 and they significantly tweeted more in the months of November, December and January.\n",
    "\n",
    "7. Dog that are golden retrievers have the highest retweet count and favorite count; basically the highest interaction.\n",
    "\n",
    "8. WeRateDogs tweeted most towards the ending of 2015 and the beginning of 2016, after which their tweet frequency steadily declined until their lowest periods in 2017. "
   ]
  }
 ],
 "metadata": {
  "extensions": {
   "jupyter_dashboards": {
    "activeView": "report_default",
    "version": 1,
    "views": {
     "grid_default": {
      "cellMargin": 10,
      "defaultCellHeight": 20,
      "maxColumns": 12,
      "name": "grid",
      "type": "grid"
     },
     "report_default": {
      "name": "report",
      "type": "report"
     }
    }
   }
  },
  "kernelspec": {
   "display_name": "Python 3 (ipykernel)",
   "language": "python",
   "name": "python3"
  },
  "language_info": {
   "codemirror_mode": {
    "name": "ipython",
    "version": 3
   },
   "file_extension": ".py",
   "mimetype": "text/x-python",
   "name": "python",
   "nbconvert_exporter": "python",
   "pygments_lexer": "ipython3",
   "version": "3.10.4"
  }
 },
 "nbformat": 4,
 "nbformat_minor": 2
}
